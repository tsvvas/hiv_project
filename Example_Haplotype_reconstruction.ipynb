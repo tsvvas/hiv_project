{
 "cells": [
  {
   "cell_type": "markdown",
   "metadata": {},
   "source": [
    "In this notebook was described how to get haplotypes of specific regions for all patients and time periods"
   ]
  },
  {
   "cell_type": "markdown",
   "metadata": {},
   "source": [
    "#### Programs to need"
   ]
  },
  {
   "cell_type": "markdown",
   "metadata": {},
   "source": [
    "- bwa\n",
    "- samtools\n",
    "- CliqueSNV"
   ]
  },
  {
   "cell_type": "markdown",
   "metadata": {},
   "source": [
    "#### Data"
   ]
  },
  {
   "cell_type": "markdown",
   "metadata": {},
   "source": [
    "<a> \"https://hiv.biozentrum.unibas.ch/data/\" Patient Data</a>"
   ]
  },
  {
   "cell_type": "code",
   "execution_count": 10,
   "metadata": {},
   "outputs": [],
   "source": [
    "from loader import Loader\n",
    "import json\n",
    "import pandas as pd"
   ]
  },
  {
   "cell_type": "markdown",
   "metadata": {},
   "source": [
    "#### Convert all .bam to .fastq"
   ]
  },
  {
   "cell_type": "code",
   "execution_count": null,
   "metadata": {},
   "outputs": [],
   "source": [
    "#Load .bam files for all patients\n",
    "loader = Loader()\n",
    "loader.load_bam()"
   ]
  },
  {
   "cell_type": "code",
   "execution_count": 9,
   "metadata": {},
   "outputs": [],
   "source": [
    "#All files must be in the same folder\n",
    "# path to folder with .bam files\n",
    "!cd PATH\n",
    "# create list of all .bam files in folder\n",
    "!ls *.bam > BAM.list"
   ]
  },
  {
   "cell_type": "code",
   "execution_count": 10,
   "metadata": {},
   "outputs": [
    {
     "name": "stdout",
     "output_type": "stream",
     "text": [
      "/bin/sh: /Users/lolitiy/Documents/inst_bioinf_19_20/project2/p1/p1_1//Users/lolitiy/Documents/inst_bioinf_19_20/project2/p1/p1_1/reads_p1_1_F4.bam.fastq: No such file or directory\r\n",
      "/bin/sh: /Users/lolitiy/Documents/inst_bioinf_19_20/project2/p1/p1_1//Users/lolitiy/Documents/inst_bioinf_19_20/project2/p1/p1_1/reads_p1_1_F5.bam.fastq: No such file or directory\r\n"
     ]
    }
   ],
   "source": [
    "# run samtools to convert all .bam files to .fastq\n",
    "!paste BAM.list | while read BAM ; do samtools bam2fq -F 0x900 \"${BAM}\" > \"${BAM}\".fastq; done;"
   ]
  },
  {
   "cell_type": "markdown",
   "metadata": {},
   "source": [
    "In order to reconstruct haplotypes for the desired gene, it is necessary to obtain fastq, including this region.\n",
    "\n",
    "Here we are reconstructing haplotypes for the gp120 gene. It is located in F4 - F5 regions. Therefore, merge fastq files for F4-F5 region together."
   ]
  },
  {
   "cell_type": "markdown",
   "metadata": {},
   "source": [
    "####  Merge .fastq"
   ]
  },
  {
   "cell_type": "code",
   "execution_count": null,
   "metadata": {},
   "outputs": [],
   "source": [
    "# Merge F4 and F5 region together for each patient\n",
    "!for p in {1..11}; do for i in {1..11}; do a=\"reads_p${p}_${i}_F4.bam.fastq\"; b=\"reads_p${p}_${i}_F4.bam.fastq\"; c=\"reads_p${p}_${i}_F4_F5.bam.fastq\" ; cat $a $b > $c; done ; done"
   ]
  },
  {
   "cell_type": "markdown",
   "metadata": {},
   "source": [
    "#### Align reads to reference"
   ]
  },
  {
   "cell_type": "code",
   "execution_count": null,
   "metadata": {},
   "outputs": [],
   "source": [
    "#load all references in .json\n",
    "loader.load_reference()"
   ]
  },
  {
   "cell_type": "code",
   "execution_count": null,
   "metadata": {},
   "outputs": [],
   "source": [
    "#extract from json region"
   ]
  },
  {
   "cell_type": "code",
   "execution_count": 27,
   "metadata": {},
   "outputs": [
    {
     "data": {
      "text/plain": [
       "['hivevo_reference_p1.json',\n",
       " 'hivevo_reference_p6.json',\n",
       " 'hivevo_reference_p7.json',\n",
       " 'hivevo_reference_p8.json',\n",
       " 'hivevo_reference_p4.json',\n",
       " 'hivevo_reference_p5.json',\n",
       " 'hivevo_reference_p9.json',\n",
       " 'hivevo_reference_p2.json',\n",
       " 'hivevo_reference_p10.json',\n",
       " 'hivevo_reference_p11.json',\n",
       " 'hivevo_reference_p3.json']"
      ]
     },
     "execution_count": 27,
     "metadata": {},
     "output_type": "execute_result"
    }
   ],
   "source": [
    "reference_path = '/data/'\n",
    "reference_list = [x for x in os.listdir(reference_path) if '.json' in x]\n",
    "reference_list"
   ]
  },
  {
   "cell_type": "code",
   "execution_count": 18,
   "metadata": {},
   "outputs": [],
   "source": [
    "reference_df = pd.DataFrame()\n",
    "for name in reference_list:\n",
    "    with open(os.path.join(reference_path, name)) as f:\n",
    "        json_file = json.load(f)\n",
    "        # drop unnecessary columns\n",
    "        t = pd.DataFrame(data=json_file).drop(['name', 'description'], axis=1)\n",
    "\n",
    "        # divide the combined columns into separate\n",
    "        t = pd.concat([t.drop(['features'], axis=1), t.features.apply(pd.Series)], axis=1)\n",
    "\n",
    "        # translate into a simple list\n",
    "        t.location = t.location.apply(pd.Series)\n",
    "\n",
    "        # cut the sequence\n",
    "        t['region_seq'] = t.apply(lambda x: x.seq[x.location[0]:x.location[1]].strip(), axis=1)\n",
    "\n",
    "        # rename\n",
    "        t.rename(mapper={'region_seq': 'sequence', 'seq': 'full_reference'}, axis=1, inplace=True)\n",
    "        reference_df = pd.concat([reference_df, t], ignore_index=True)\n",
    "#leave rows only with the gp120 gene       \n",
    "reference_df = reference_df.query(\"name == 'gp120'\")"
   ]
  },
  {
   "cell_type": "code",
   "execution_count": 19,
   "metadata": {},
   "outputs": [
    {
     "data": {
      "text/html": [
       "<div>\n",
       "<style scoped>\n",
       "    .dataframe tbody tr th:only-of-type {\n",
       "        vertical-align: middle;\n",
       "    }\n",
       "\n",
       "    .dataframe tbody tr th {\n",
       "        vertical-align: top;\n",
       "    }\n",
       "\n",
       "    .dataframe thead th {\n",
       "        text-align: right;\n",
       "    }\n",
       "</style>\n",
       "<table border=\"1\" class=\"dataframe\">\n",
       "  <thead>\n",
       "    <tr style=\"text-align: right;\">\n",
       "      <th></th>\n",
       "      <th>full_reference</th>\n",
       "      <th>framestart</th>\n",
       "      <th>len</th>\n",
       "      <th>id</th>\n",
       "      <th>type</th>\n",
       "      <th>name</th>\n",
       "      <th>location</th>\n",
       "      <th>sequence</th>\n",
       "    </tr>\n",
       "  </thead>\n",
       "  <tbody>\n",
       "    <tr>\n",
       "      <th>35</th>\n",
       "      <td>TTAAAGTGGTGTGTGCCCGTCTGTGATAGGACTCTGGTAACTAGAG...</td>\n",
       "      <td>261</td>\n",
       "      <td>9060</td>\n",
       "      <td>reference_p1</td>\n",
       "      <td>protein</td>\n",
       "      <td>gp120</td>\n",
       "      <td>[5778, 7215]</td>\n",
       "      <td>TCAAACAACTTGTGGGTTACAGTTTATTATGGGGTTCCTGTGTGGA...</td>\n",
       "    </tr>\n",
       "    <tr>\n",
       "      <th>75</th>\n",
       "      <td>TCTAAGTAGTGTGTGCCCGTCTGTTGTGTGACTCTGGTAACTAGAG...</td>\n",
       "      <td>244</td>\n",
       "      <td>9031</td>\n",
       "      <td>reference_p6</td>\n",
       "      <td>protein</td>\n",
       "      <td>gp120</td>\n",
       "      <td>[5765, 7175]</td>\n",
       "      <td>ATGGGGAACTTATGGGTCACAGTCTATTATGGGGTACCTGTGTGGA...</td>\n",
       "    </tr>\n",
       "    <tr>\n",
       "      <th>115</th>\n",
       "      <td>TTCAAGTAGTGTGTGCCCGTCTGTTGTGTGACTCTGGTAACTAGAG...</td>\n",
       "      <td>242</td>\n",
       "      <td>9104</td>\n",
       "      <td>reference_p7</td>\n",
       "      <td>protein</td>\n",
       "      <td>gp120</td>\n",
       "      <td>[5796, 7236]</td>\n",
       "      <td>AAGGAAAAATTGTGGGTCACAGTCTATTATGGGGTACCTGTGTGGA...</td>\n",
       "    </tr>\n",
       "    <tr>\n",
       "      <th>155</th>\n",
       "      <td>TTCAAGTAGTGTGTGCCCGTCTGTTGTGTGACTCTGGTAACTAGAG...</td>\n",
       "      <td>241</td>\n",
       "      <td>9120</td>\n",
       "      <td>reference_p8</td>\n",
       "      <td>protein</td>\n",
       "      <td>gp120</td>\n",
       "      <td>[5771, 7271]</td>\n",
       "      <td>GCAGAAAATTTGTGGGTCACAGTCTATTATGGGGTACCTGTGTGGA...</td>\n",
       "    </tr>\n",
       "    <tr>\n",
       "      <th>195</th>\n",
       "      <td>TTCAAGTAGTGTGTGCCCGTCTGTTGTGTGACTCTGGTAACTAGAG...</td>\n",
       "      <td>242</td>\n",
       "      <td>9059</td>\n",
       "      <td>reference_p4</td>\n",
       "      <td>protein</td>\n",
       "      <td>gp120</td>\n",
       "      <td>[5763, 7227]</td>\n",
       "      <td>ACAAAACCATTGTGGGTTACAGTCTATTATGGGGTACCTGTGTGGA...</td>\n",
       "    </tr>\n",
       "    <tr>\n",
       "      <th>235</th>\n",
       "      <td>TTCAAGTAGTGTGTGCCCGTCTGTTGTGTGACTCTGGTAACTAGAG...</td>\n",
       "      <td>242</td>\n",
       "      <td>8991</td>\n",
       "      <td>reference_p5</td>\n",
       "      <td>protein</td>\n",
       "      <td>gp120</td>\n",
       "      <td>[5757, 7167]</td>\n",
       "      <td>AAGGAACAAACGTGGGTCACAGTCTATTATGGGGTACCTGTGTGGA...</td>\n",
       "    </tr>\n",
       "    <tr>\n",
       "      <th>275</th>\n",
       "      <td>TTCAAGTAGTGTGTGCCCATCTGTTGTGTGACTCTGGTAGCTAGAG...</td>\n",
       "      <td>243</td>\n",
       "      <td>9017</td>\n",
       "      <td>reference_p9</td>\n",
       "      <td>protein</td>\n",
       "      <td>gp120</td>\n",
       "      <td>[5752, 7183]</td>\n",
       "      <td>ACAGGAAACTTGTGGGTCACAGTCTATTATGGGGTGCCTGTGTGGA...</td>\n",
       "    </tr>\n",
       "    <tr>\n",
       "      <th>315</th>\n",
       "      <td>TTTAAGTAGTGTGTGCCCGTCTGTTGTGTGACTCTGGTAACTAGAG...</td>\n",
       "      <td>241</td>\n",
       "      <td>9095</td>\n",
       "      <td>reference_p2</td>\n",
       "      <td>protein</td>\n",
       "      <td>gp120</td>\n",
       "      <td>[5768, 7229]</td>\n",
       "      <td>GGGGAACAGTTATGGGTCACAGTCTATTATGGGGTACCTGTGTGGA...</td>\n",
       "    </tr>\n",
       "    <tr>\n",
       "      <th>355</th>\n",
       "      <td>TTCAAGTAGTGTGTGCCCGTCTGTTGTGTGACTCTGGTAACTAGAG...</td>\n",
       "      <td>243</td>\n",
       "      <td>9074</td>\n",
       "      <td>reference_p10</td>\n",
       "      <td>protein</td>\n",
       "      <td>gp120</td>\n",
       "      <td>[5782, 7240]</td>\n",
       "      <td>GCAGAAGATAAGTGGGTCACAGTCTATTATGGGGTACCTGTGTGGA...</td>\n",
       "    </tr>\n",
       "    <tr>\n",
       "      <th>395</th>\n",
       "      <td>TTCAAGTAGTGTGTGCCCGTCTGTTGTGTGACTCTGGTAACTAGAG...</td>\n",
       "      <td>240</td>\n",
       "      <td>9011</td>\n",
       "      <td>reference_p11</td>\n",
       "      <td>protein</td>\n",
       "      <td>gp120</td>\n",
       "      <td>[5761, 7162]</td>\n",
       "      <td>GCAGAACAATTGTGGGTCACAGTCTATTATGGGGTACCTGTGTGGA...</td>\n",
       "    </tr>\n",
       "    <tr>\n",
       "      <th>435</th>\n",
       "      <td>TTCAAGTAGTGTGTGCCCGTCTGTTGTGTGACTCTGGTAACTAGAG...</td>\n",
       "      <td>243</td>\n",
       "      <td>9047</td>\n",
       "      <td>reference_p3</td>\n",
       "      <td>protein</td>\n",
       "      <td>gp120</td>\n",
       "      <td>[5785, 7186]</td>\n",
       "      <td>GCAGAACAATTGTGGGTCACAGTCTATTATGGGGTACCTGTGTGGA...</td>\n",
       "    </tr>\n",
       "  </tbody>\n",
       "</table>\n",
       "</div>"
      ],
      "text/plain": [
       "                                        full_reference  framestart   len  \\\n",
       "35   TTAAAGTGGTGTGTGCCCGTCTGTGATAGGACTCTGGTAACTAGAG...         261  9060   \n",
       "75   TCTAAGTAGTGTGTGCCCGTCTGTTGTGTGACTCTGGTAACTAGAG...         244  9031   \n",
       "115  TTCAAGTAGTGTGTGCCCGTCTGTTGTGTGACTCTGGTAACTAGAG...         242  9104   \n",
       "155  TTCAAGTAGTGTGTGCCCGTCTGTTGTGTGACTCTGGTAACTAGAG...         241  9120   \n",
       "195  TTCAAGTAGTGTGTGCCCGTCTGTTGTGTGACTCTGGTAACTAGAG...         242  9059   \n",
       "235  TTCAAGTAGTGTGTGCCCGTCTGTTGTGTGACTCTGGTAACTAGAG...         242  8991   \n",
       "275  TTCAAGTAGTGTGTGCCCATCTGTTGTGTGACTCTGGTAGCTAGAG...         243  9017   \n",
       "315  TTTAAGTAGTGTGTGCCCGTCTGTTGTGTGACTCTGGTAACTAGAG...         241  9095   \n",
       "355  TTCAAGTAGTGTGTGCCCGTCTGTTGTGTGACTCTGGTAACTAGAG...         243  9074   \n",
       "395  TTCAAGTAGTGTGTGCCCGTCTGTTGTGTGACTCTGGTAACTAGAG...         240  9011   \n",
       "435  TTCAAGTAGTGTGTGCCCGTCTGTTGTGTGACTCTGGTAACTAGAG...         243  9047   \n",
       "\n",
       "                id     type   name      location  \\\n",
       "35    reference_p1  protein  gp120  [5778, 7215]   \n",
       "75    reference_p6  protein  gp120  [5765, 7175]   \n",
       "115   reference_p7  protein  gp120  [5796, 7236]   \n",
       "155   reference_p8  protein  gp120  [5771, 7271]   \n",
       "195   reference_p4  protein  gp120  [5763, 7227]   \n",
       "235   reference_p5  protein  gp120  [5757, 7167]   \n",
       "275   reference_p9  protein  gp120  [5752, 7183]   \n",
       "315   reference_p2  protein  gp120  [5768, 7229]   \n",
       "355  reference_p10  protein  gp120  [5782, 7240]   \n",
       "395  reference_p11  protein  gp120  [5761, 7162]   \n",
       "435   reference_p3  protein  gp120  [5785, 7186]   \n",
       "\n",
       "                                              sequence  \n",
       "35   TCAAACAACTTGTGGGTTACAGTTTATTATGGGGTTCCTGTGTGGA...  \n",
       "75   ATGGGGAACTTATGGGTCACAGTCTATTATGGGGTACCTGTGTGGA...  \n",
       "115  AAGGAAAAATTGTGGGTCACAGTCTATTATGGGGTACCTGTGTGGA...  \n",
       "155  GCAGAAAATTTGTGGGTCACAGTCTATTATGGGGTACCTGTGTGGA...  \n",
       "195  ACAAAACCATTGTGGGTTACAGTCTATTATGGGGTACCTGTGTGGA...  \n",
       "235  AAGGAACAAACGTGGGTCACAGTCTATTATGGGGTACCTGTGTGGA...  \n",
       "275  ACAGGAAACTTGTGGGTCACAGTCTATTATGGGGTGCCTGTGTGGA...  \n",
       "315  GGGGAACAGTTATGGGTCACAGTCTATTATGGGGTACCTGTGTGGA...  \n",
       "355  GCAGAAGATAAGTGGGTCACAGTCTATTATGGGGTACCTGTGTGGA...  \n",
       "395  GCAGAACAATTGTGGGTCACAGTCTATTATGGGGTACCTGTGTGGA...  \n",
       "435  GCAGAACAATTGTGGGTCACAGTCTATTATGGGGTACCTGTGTGGA...  "
      ]
     },
     "execution_count": 19,
     "metadata": {},
     "output_type": "execute_result"
    }
   ],
   "source": [
    "reference_df"
   ]
  },
  {
   "cell_type": "code",
   "execution_count": 21,
   "metadata": {},
   "outputs": [],
   "source": [
    "# drop unnecessary columns\n",
    "reference_df = reference_df.drop(['full_reference', 'framestart', 'len', 'type', 'name', 'location'], axis=1)"
   ]
  },
  {
   "cell_type": "code",
   "execution_count": 23,
   "metadata": {},
   "outputs": [],
   "source": [
    "ref_dict = reference_df.set_index('id').T.to_dict('sequence')"
   ]
  },
  {
   "cell_type": "code",
   "execution_count": null,
   "metadata": {},
   "outputs": [],
   "source": [
    "#To separate fasta files"
   ]
  },
  {
   "cell_type": "code",
   "execution_count": 24,
   "metadata": {},
   "outputs": [
    {
     "name": "stdout",
     "output_type": "stream",
     "text": [
      "[bwa_index] Pack FASTA... 0.00 sec\r\n",
      "[bwa_index] Construct BWT for the packed sequence...\r\n",
      "[bwa_index] 0.00 seconds elapse.\r\n",
      "[bwa_index] Update BWT... 0.00 sec\r\n",
      "[bwa_index] Pack forward-only FASTA... 0.00 sec\r\n",
      "[bwa_index] Construct SA from BWT and Occ... 0.00 sec\r\n",
      "[main] Version: 0.7.17-r1188\r\n",
      "[main] CMD: bwa index /Users/lolitiy/Documents/inst_bioinf_19_20/project2/patients/p2_74d/genome_p2.fasta\r\n",
      "[main] Real time: 0.007 sec; CPU: 0.013 sec\r\n"
     ]
    }
   ],
   "source": [
    "#here you need the reference file in .fasta\n",
    "#indexing reference\n",
    "!for p in {1..11}; do a=\"hivevo_reference_p${p}_gp120.fasta\"; bwa index $a; done"
   ]
  },
  {
   "cell_type": "code",
   "execution_count": 11,
   "metadata": {},
   "outputs": [
    {
     "name": "stdout",
     "output_type": "stream",
     "text": [
      "[E::bwa_idx_load_from_disk] fail to locate the index files\r\n"
     ]
    }
   ],
   "source": [
    "#Align reads to reference\n",
    "!for p in {1..11}; do for i in {1..11}; do a=\"hivevo_reference_p${p}_gp120.fasta\"; b=\"reads_p${p}_${i}_F4_F5.bam.fastq\"; c=\"reads_sorted_p${p}_${i}_F4_F5.bam\"; bwa mem $a $b | samtools view -S -b - | samtools sort - -o $c ; done ; done"
   ]
  },
  {
   "cell_type": "code",
   "execution_count": 38,
   "metadata": {},
   "outputs": [],
   "source": [
    "#indexing .bam\n",
    "!for p in {1..11}; do for i in {1..11}; do a=\"reads_sorted_p${p}_${i}_F4_F5.bam\" ; samtools index $a ; done ; done"
   ]
  },
  {
   "cell_type": "code",
   "execution_count": 57,
   "metadata": {},
   "outputs": [],
   "source": [
    "#.bam convert to .sam (if need header, add -h)\n",
    "!for p in {1..11}; do for i in {1..11}; do a=\"reads_sorted_p${p}_${i}_F4_F5.bam\" ; b=\"reads_sorted_p${p}_${i}_F4_F5.sam\" ; samtools view -h $a > $b ; done ; done"
   ]
  },
  {
   "cell_type": "markdown",
   "metadata": {},
   "source": [
    "#### Haplotype reconstruction for custom region"
   ]
  },
  {
   "cell_type": "code",
   "execution_count": 58,
   "metadata": {},
   "outputs": [
    {
     "name": "stdout",
     "output_type": "stream",
     "text": [
      "CliqueSNV version: 1.5.0\n",
      "Settings: {-m=snv-illumina, -in=/Users/lolitiy/Documents/inst_bioinf_19_20/project2/patients/p2_74d/p2_74_V3.sam, -outDir=Users/lolitiy/Documents/inst_bioinf_19_20/project2/patients/p2_74d, -t=10, -tf=0.001}\n",
      "Start read sam\n",
      "0 DONE\n",
      "Start convert\n",
      " DONE\n",
      "Total reads number: 70625\n",
      "read 5326\n",
      "Start iterations EM\n",
      "58\n",
      "Start build clusters\n",
      " - DONE\n",
      "Start EM \n",
      "Start iterations EM\n",
      "0\n",
      " - DONE \n",
      "[]\n",
      "Found haplotypes 1\n",
      "Haplotypes after 0.1 1\n",
      "Start build clusters\n",
      " - DONE\n",
      "Start EM \n",
      "Start iterations EM\n",
      "0\n",
      " - DONE \n",
      "[]\n",
      "Found haplotypes 1\n",
      "Haplotypes after 0.05 1\n",
      "Start build clusters\n",
      "\n",
      " - DONE\n",
      "Start EM \n",
      "Start iterations EM\n",
      "70\n",
      " - DONE \n",
      "[]\n",
      "A[6523]\n",
      "Found haplotypes 2\n",
      "Haplotypes after 0.01 1\n",
      "Haplotypes after no freq limit 6\n",
      "\n",
      "Freq before filtering[0.9762637414665623, 0.021077090682982726, 0.0013548670263076972, 4.8806490992950535E-4, 4.591855645212491E-4, 3.570503496965231E-4]\n",
      "Haplotypes before return 3\n",
      "Results are available in: /Users/lolitiy/Users/lolitiy/Documents/inst_bioinf_19_20/project2/patients/p2_74d/p2_74_V3.txt\n",
      "Results are available in: /Users/lolitiy/Users/lolitiy/Documents/inst_bioinf_19_20/project2/patients/p2_74d/p2_74_V3.fasta\n",
      "SNV got 3 haplotypes\n",
      "\n",
      "[{\n",
      " snps=[],\n",
      " source clique='[],\n",
      " frequency= 0.9762637414665623,\n",
      " haplotype='--------------------------------------------------------------------------------------------------------------------------------------------------------------------------------------------------------------------------------------------------------------------------------------------------------------------------------------------------------------------------------------------------------------------------------------------------------------------------------------------------------------------------------------------------------------------------------------------------------------------------------------------------------------------------------------------------------------------------------------------------------------------------------------------------------------------------------------------------------------------------------------------------------------------------------------------------------------------------------------------------------------------------------------------------------------------------------------------------------------------------------------------------------------------------------------------------------------------------------------------------------------------------------------------------------------------------------------------------------------------------------------------------------------------------------------------------------------------------------------------------------------------------------------------------------------------------------------------------------------------------------------------------------------------------------------------------------------------------------------------------------------------------------------------------------------------------------------------------------------------------------------------------------------------------------------------------------------------------------------------------------------------------------------------------------------------------------------------------------------------------------------------------------------------------------------------------------------------------------------------------------------------------------------------------------------------------------------------------------------------------------------------------------------------------------------------------------------------------------------------------------------------------------------------------------------------------------------------------------------------------------------------------------------------------------------------------------------------------------------------------------------------------------------------------------------------------------------------------------------------------------------------------------------------------------------------------------------------------------------------------------------------------------------------------------------------------------------------------------------------------------------------------------------------------------------------------------------------------------------------------------------------------------------------------------------------------------------------------------------------------------------------------------------------------------------------------------------------------------------------------------------------------------------------------------------------------------------------------------------------------------------------------------------------------------------------------------------------------------------------------------------------------------------------------------------------------------------------------------------------------------------------------------------------------------------------------------------------------------------------------------------------------------------------------------------------------------------------------------------------------------------------------------------------------------------------------------------------------------------------------------------------------------------------------------------------------------------------------------------------------------------------------------------------------------------------------------------------------------------------------------------------------------------------------------------------------------------------------------------------------------------------------------------------------------------------------------------------------------------------------------------------------------------------------------------------------------------------------------------------------------------------------------------------------------------------------------------------------------------------------------------------------------------------------------------------------------------------------------------------------------------------------------------------------------------------------------------------------------------------------------------------------------------------------------------------------------------------------------------------------------------------------------------------------------------------------------------------------------------------------------------------------------------------------------------------------------------------------------------------------------------------------------------------------------------------------------------------------------------------------------------------------------------------------------------------------------------------------------------------------------------------------------------------------------------------------------------------------------------TTAATGATCTGTAGTGCGGGGGAACAGTTATGGGTCACAGTCTATTATGGGGTACCTGTGTGGAAAGAAGCAACCACCACTCTATTTTGTGCATCAGATGCTAAGGGACATGACACAGAGGTACATAATGTTTGGGCTACACATGCCTGTGTACCCACAGACCCCAACCCACAAGAAGTAGTATTGGAAAATGTGACAGAAAATTTTAACATGTGGAAAAATAACATGGTAGAACAGATGCATGAGGATATAATCAGTTTATGGGATCAAAGCCTAAAGCCATGTGTAAAATTAACCCCACTCTGTGTTACTTTACATTGCACTGATTTGGGGAATGCTACTAATGGTGGTAACAATACTACCAATAGTAGCAGCTGGGGAATGGAGGAGAAAGGAGAAATAAAAAACTGTTCTTTCAATATCACCACAAGCATAAGAGATAAGGTGCAAAAAGAATATGCAGCTTTTTATAAACTTGATATAGTACCAATAGAAAATGATAATGCTAATAATACCAGCAATTATACTAGCTATAGGTTGATAAGTTGTAATACCTCAGTCATTACACAAGCCTGTCCAAAGGTGTCCTTTGAGCCAATTCCAATACATTATTGTGCCCCGGCTGGTTTTGCGATTCTAAAGTGTAGAGATAAGAAGTTTAATGGGACAGGAACATGTACAAATGTCAGCACAGTACAATGTACACATGGAATTAGGCCAGTAGTATCAACTCAACTGCTGTTAAATGGCAGTCTAGCAGAAGAAGATGTAGTGATTAAATCTGCCAATTTCTCAGACAATACTAAAACCATAATAGTACAGCTGAACAAATCTATAGTAATTAATTGTACAAGACCCAACAACAATACAAGAAAAGGTATACATATAGGACCAGGGAGAGCATTTTTTGCCACAGAAATAATAGGAGACATAAGACAAGCACATTGTAACCTTAGTAGAACAGACTGGGTTAACACTTTAAAACAGATAGCCATAAAATTAAGAGAACAATTTAAGAATAAAACAATAGCCTTTAATCGATCCTCAGGAGGGGACCCAGAAATTGTAATGCACAGTTTTAATTGTGGAGGGGAATTTTTCTATTGTAATTCAACACAACTGTTTAATAATACTTGGAATAGTACTACTGACCTGTTTAATAGAACTGAAGAGTCAAATGACACTATCATACTCCCATGCAAAATAAAACAAATTATAAACATGTGGCAGGGAGTAGGAAAAGCAATGTATGCCCCTCCCATCAGAGGACAAATTAGATGTTCATCAAATATTACAGGACTGATATTAACAAGAGATGGGGGTAAAAACGACAGCGAGACTGAGACCTTCAGACCTGGAGGGGGAGATATGAGGGACAATTGGAGAAGTGAATTATATAAATATAAAGTAGTAAAAATTGAACCATTAGGAGTAGCACCCACCAAGGCAAAGAGAAGAGTGGTGCAGAGAGAAAAAAGAGCAATAGGAATAGGAGCTGTGTTCCTTGGGTTCTTGGGAGCAGCAGGAAGCACTATGGGCGCAGCGTCATTGACGCTGACGGTACAGGCCAGGCAATTACTGTCTGGTATAGTGCAACAGCAGAACAATCTGCTGAGGGCTATTGAGGCGCAACAGCATCTGTTGCAACTCACAGTCTGGGGCATCAAGCAGCTCCAGGCAAGAGTCCTGGCTGTGGAAAGATACCTACGGGATCAACAGCTCCTGGGAATTTGGGGTTGCTCTGGAAAACTCATTTGCACCACTACTGTGCCTTGGAATACTAGTTGGAGTAATAAATCTCTGGATGTAATTTGGGGTAACATGACCTGGATGCAGTGGGAAAGAGAAATTGACAATTACACAGGCATAATATACAACTTAATTGAAGAATCGCAGAACCAACAAGAAAAGAATGAACAAGACTTATTGGCACTAGACAAATGGGCAAGTTTGTGGAATTGGTTTGACATATCAAAATGGCTGTGGTATATAAAAATATTCATAATGATAGTAGGAGGCTTAATAGGTTTAAGAATAGTTTTTACTGTACTTTCTATAGTAAATAGAGTTAGGCAGGGATACTCACCATTATCGTTACAGACCCGCCTCCCAACCCAGAGGGGACCCGACAGGCCCGAAGGAATCGAAGAAGAAGGTGGAGAGAGAGACAGAGACAGATCCGAACCATTAGCGGGTGGATTCTTAACACTTATCTGGATCGACCTGAGGAGCCTGTGCATCTTCAGCTACCACCGCTTGAGAGACTTACTCTTGATTGTAACGAGGATTGTGGAACTTCTGGGACACAGGGGGTGGGCAATCCTCAAATATTGGTGGAATCTCCTACAGTATTGGAGTCAGGAGCTAAAGAATAGTGCTGTTAGCTTGTTTAATGCCATAGCTATAGCAGTAGCTGAGGGGACAGATAGGGTTATAGAAGTAGCACAAAGAGCTTTTAGAGCTATTCTTCACATACCTAGAAGAATAAGACAGGGCTTC\n",
      "'}, {\n",
      " snps=GA[6138, 6523],\n",
      " source clique='CA[6502, 6523],\n",
      " frequency= 0.021077090682982726,\n",
      " haplotype='--------------------------------------------------------------------------------------------------------------------------------------------------------------------------------------------------------------------------------------------------------------------------------------------------------------------------------------------------------------------------------------------------------------------------------------------------------------------------------------------------------------------------------------------------------------------------------------------------------------------------------------------------------------------------------------------------------------------------------------------------------------------------------------------------------------------------------------------------------------------------------------------------------------------------------------------------------------------------------------------------------------------------------------------------------------------------------------------------------------------------------------------------------------------------------------------------------------------------------------------------------------------------------------------------------------------------------------------------------------------------------------------------------------------------------------------------------------------------------------------------------------------------------------------------------------------------------------------------------------------------------------------------------------------------------------------------------------------------------------------------------------------------------------------------------------------------------------------------------------------------------------------------------------------------------------------------------------------------------------------------------------------------------------------------------------------------------------------------------------------------------------------------------------------------------------------------------------------------------------------------------------------------------------------------------------------------------------------------------------------------------------------------------------------------------------------------------------------------------------------------------------------------------------------------------------------------------------------------------------------------------------------------------------------------------------------------------------------------------------------------------------------------------------------------------------------------------------------------------------------------------------------------------------------------------------------------------------------------------------------------------------------------------------------------------------------------------------------------------------------------------------------------------------------------------------------------------------------------------------------------------------------------------------------------------------------------------------------------------------------------------------------------------------------------------------------------------------------------------------------------------------------------------------------------------------------------------------------------------------------------------------------------------------------------------------------------------------------------------------------------------------------------------------------------------------------------------------------------------------------------------------------------------------------------------------------------------------------------------------------------------------------------------------------------------------------------------------------------------------------------------------------------------------------------------------------------------------------------------------------------------------------------------------------------------------------------------------------------------------------------------------------------------------------------------------------------------------------------------------------------------------------------------------------------------------------------------------------------------------------------------------------------------------------------------------------------------------------------------------------------------------------------------------------------------------------------------------------------------------------------------------------------------------------------------------------------------------------------------------------------------------------------------------------------------------------------------------------------------------------------------------------------------------------------------------------------------------------------------------------------------------------------------------------------------------------------------------------------------------------------------------------------------------------------------------------------------------------------------------------------------------------------------------------------------------------------------------------------------------------------------------------------------------------------------------------------------------------------------------------------------------------------------------------------------------------------------------------------------------------------------------------------------------------------------------------------------------------------------------TTAATGATCTGTAGTGCGGGGGAACAGTTATGGGTCACAGTCTATTATGGGGTACCTGTGTGGAAAGAAGCAACCACCACTCTATTTTGTGCATCAGATGCTAAGGGACATGACACAGAGGTACATAATGTTTGGGCTACACATGCCTGTGTACCCACAGACCCCAACCCACAAGAAGTAGTATTGGAAAATGTGACAGAAAATTTTAACATGTGGAAAAATAACATGGTAGAACAGATGCATGAGGATATAATCAGTTTATGGGATCAAAGCCTAAAGCCATGTGTAAAATTAACCCCACTCTGTGTTACTTTACATTGCACTGATTTGGGGAATGCTACTAATGGTGGTAACAATACTACCAATAGTAGCAGCTGGGGAATGGAGGGGAAAGGAGAAATAAAAAACTGTTCTTTCAATATCACCACAAGCATAAGAGATAAGGTGCAAAAAGAATATGCAGCTTTTTATAAACTTGATATAGTACCAATAGAAAATGATAATGCTAATAATACCAGCAATTATACTAGCTATAGGTTGATAAGTTGTAATACCTCAGTCATTACACAAGCCTGTCCAAAGGTGTCCTTTGAGCCAATTCCAATACATTATTGTGCCCCGGCTGGTTTTGCGATTCTAAAGTGTAGAGATAAGAAGTTTAATGGGACAGGAACATGTACAAATGTCAGCACAGTACAATGTACACATGGAATTAGGCCAGTAGTATCAACTCAACTGCTGTTAAATGGCAGTCTAGCAGAAGAAGATGTAGTAATTAAATCTGCCAATTTCTCAGACAATACTAAAACCATAATAGTACAGCTGAACAAATCTATAGTAATTAATTGTACAAGACCCAACAACAATACAAGAAAAGGTATACATATAGGACCAGGGAGAGCATTTTTTGCCACAGAAATAATAGGAGACATAAGACAAGCACATTGTAACCTTAGTAGAACAGACTGGGTTAACACTTTAAAACAGATAGCCATAAAATTAAGAGAACAATTTAAGAATAAAACAATAGCCTTTAATCGATCCTCAGGAGGGGACCCAGAAATTGTAATGCACAGTTTTAATTGTGGAGGGGAATTTTTCTATTGTAATTCAACACAACTGTTTAATAATACTTGGAATAGTACTACTGACCTGTTTAATAGAACTGAAGAGTCAAATGACACTATCATACTCCCATGCAAAATAAAACAAATTATAAACATGTGGCAGGGAGTAGGAAAAGCAATGTATGCCCCTCCCATCAGAGGACAAATTAGATGTTCATCAAATATTACAGGACTGATATTAACAAGAGATGGGGGTAAAAACGACAGCGAGACTGAGACCTTCAGACCTGGAGGGGGAGATATGAGGGACAATTGGAGAAGTGAATTATATAAATATAAAGTAGTAAAAATTGAACCATTAGGAGTAGCACCCACCAAGGCAAAGAGAAGAGTGGTGCAGAGAGAAAAAAGAGCAATAGGAATAGGAGCTGTGTTCCTTGGGTTCTTGGGAGCAGCAGGAAGCACTATGGGCGCAGCGTCATTGACGCTGACGGTACAGGCCAGGCAATTACTGTCTGGTATAGTGCAACAGCAGAACAATCTGCTGAGGGCTATTGAGGCGCAACAGCATCTGTTGCAACTCACAGTCTGGGGCATCAAGCAGCTCCAGGCAAGAGTCCTGGCTGTGGAAAGATACCTACGGGATCAACAGCTCCTGGGAATTTGGGGTTGCTCTGGAAAACTCATTTGCACCACTACTGTGCCTTGGAATACTAGTTGGAGTAATAAATCTCTGGATGTAATTTGGGGTAACATGACCTGGATGCAGTGGGAAAGAGAAATTGACAATTACACAGGCATAATATACAACTTAATTGAAGAATCGCAGAACCAACAAGAAAAGAATGAACAAGACTTATTGGCACTAGACAAATGGGCAAGTTTGTGGAATTGGTTTGACATATCAAAATGGCTGTGGTATATAAAAATATTCATAATGATAGTAGGAGGCTTAATAGGTTTAAGAATAGTTTTTACTGTACTTTCTATAGTAAATAGAGTTAGGCAGGGATACTCACCATTATCGTTACAGACCCGCCTCCCAACCCAGAGGGGACCCGACAGGCCCGAAGGAATCGAAGAAGAAGGTGGAGAGAGAGACAGAGACAGATCCGAACCATTAGCGGGTGGATTCTTAACACTTATCTGGATCGACCTGAGGAGCCTGTGCATCTTCAGCTACCACCGCTTGAGAGACTTACTCTTGATTGTAACGAGGATTGTGGAACTTCTGGGACACAGGGGGTGGGCAATCCTCAAATATTGGTGGAATCTCCTACAGTATTGGAGTCAGGAGCTAAAGAATAGTGCTGTTAGCTTGTTTAATGCCATAGCTATAGCAGTAGCTGAGGGGACAGATAGGGTTATAGAAGTAGCACAAAGAGCTTTTAGAGCTATTCTTCACATACCTAGAAGAATAAGACAGGGCTTC\n",
      "'}, {\n",
      " snps=GAG-------------C[6138, 6523, 7486, 7610, 7611, 7612, 7613, 7614, 7615, 7616, 7617, 7618, 7619, 7620, 7621, 7622, 7675],\n",
      " source clique='--------------CC[7610, 7611, 7612, 7613, 7614, 7615, 7616, 7617, 7618, 7619, 7620, 7621, 7622, 7635, 7675, 7700],\n",
      " frequency= 0.0013548670263076972,\n",
      " haplotype='--------------------------------------------------------------------------------------------------------------------------------------------------------------------------------------------------------------------------------------------------------------------------------------------------------------------------------------------------------------------------------------------------------------------------------------------------------------------------------------------------------------------------------------------------------------------------------------------------------------------------------------------------------------------------------------------------------------------------------------------------------------------------------------------------------------------------------------------------------------------------------------------------------------------------------------------------------------------------------------------------------------------------------------------------------------------------------------------------------------------------------------------------------------------------------------------------------------------------------------------------------------------------------------------------------------------------------------------------------------------------------------------------------------------------------------------------------------------------------------------------------------------------------------------------------------------------------------------------------------------------------------------------------------------------------------------------------------------------------------------------------------------------------------------------------------------------------------------------------------------------------------------------------------------------------------------------------------------------------------------------------------------------------------------------------------------------------------------------------------------------------------------------------------------------------------------------------------------------------------------------------------------------------------------------------------------------------------------------------------------------------------------------------------------------------------------------------------------------------------------------------------------------------------------------------------------------------------------------------------------------------------------------------------------------------------------------------------------------------------------------------------------------------------------------------------------------------------------------------------------------------------------------------------------------------------------------------------------------------------------------------------------------------------------------------------------------------------------------------------------------------------------------------------------------------------------------------------------------------------------------------------------------------------------------------------------------------------------------------------------------------------------------------------------------------------------------------------------------------------------------------------------------------------------------------------------------------------------------------------------------------------------------------------------------------------------------------------------------------------------------------------------------------------------------------------------------------------------------------------------------------------------------------------------------------------------------------------------------------------------------------------------------------------------------------------------------------------------------------------------------------------------------------------------------------------------------------------------------------------------------------------------------------------------------------------------------------------------------------------------------------------------------------------------------------------------------------------------------------------------------------------------------------------------------------------------------------------------------------------------------------------------------------------------------------------------------------------------------------------------------------------------------------------------------------------------------------------------------------------------------------------------------------------------------------------------------------------------------------------------------------------------------------------------------------------------------------------------------------------------------------------------------------------------------------------------------------------------------------------------------------------------------------------------------------------------------------------------------------------------------------------------------------------------------------------------------------------------------------------------------------------------------------------------------------------------------------------------------------------------------------------------------------------------------------------------------------------------------------------------------------------------------------------------------------------------------------------------------------------------------------------------------------------------------------------------------------------------------------------TTAATGATCTGTAGTGCGGGGGAACAGTTATGGGTCACAGTCTATTATGGGGTACCTGTGTGGAAAGAAGCAACCACCACTCTATTTTGTGCATCAGATGCTAAGGGACATGACACAGAGGTACATAATGTTTGGGCTACACATGCCTGTGTACCCACAGACCCCAACCCACAAGAAGTAGTATTGGAAAATGTGACAGAAAATTTTAACATGTGGAAAAATAACATGGTAGAACAGATGCATGAGGATATAATCAGTTTATGGGATCAAAGCCTAAAGCCATGTGTAAAATTAACCCCACTCTGTGTTACTTTACATTGCACTGATTTGGGGAATGCTACTAATGGTGGTAACAATACTACCAATAGTAGCAGCTGGGGAATGGAGGGGAAAGGAGAAATAAAAAACTGTTCTTTCAATATCACCACAAGCATAAGAGATAAGGTGCAAAAAGAATATGCAGCTTTTTATAAACTTGATATAGTACCAATAGAAAATGATAATGCTAATAATACCAGCAATTATACTAGCTATAGGTTGATAAGTTGTAATACCTCAGTCATTACACAAGCCTGTCCAAAGGTGTCCTTTGAGCCAATTCCAATACATTATTGTGCCCCGGCTGGTTTTGCGATTCTAAAGTGTAGAGATAAGAAGTTTAATGGGACAGGAACATGTACAAATGTCAGCACAGTACAATGTACACATGGAATTAGGCCAGTAGTATCAACTCAACTGCTGTTAAATGGCAGTCTAGCAGAAGAAGATGTAGTAATTAAATCTGCCAATTTCTCAGACAATACTAAAACCATAATAGTACAGCTGAACAAATCTATAGTAATTAATTGTACAAGACCCAACAACAATACAAGAAAAGGTATACATATAGGACCAGGGAGAGCATTTTTTGCCACAGAAATAATAGGAGACATAAGACAAGCACATTGTAACCTTAGTAGAACAGACTGGGTTAACACTTTAAAACAGATAGCCATAAAATTAAGAGAACAATTTAAGAATAAAACAATAGCCTTTAATCGATCCTCAGGAGGGGACCCAGAAATTGTAATGCACAGTTTTAATTGTGGAGGGGAATTTTTCTATTGTAATTCAACACAACTGTTTAATAATACTTGGAATAGTACTACTGACCTGTTTAATAGAACTGAAGAGTCAAATGACACTATCATACTCCCATGCAAAATAAAACAAATTATAAACATGTGGCAGGGAGTAGGAAAAGCAATGTATGCCCCTCCCATCAGAGGACAAATTAGATGTTCATCAAATATTACAGGACTGATATTAACAAGAGATGGGGGTAAAAACGACAGCGAGACTGAGACCTTCAGACCTGGAGGGGGAGATATGAGGGACAATTGGAGAAGTGAATTATATAAATATAAAGTAGTAAAAATTGAACCATTAGGAGTAGCACCCACCAAGGCAAAGAGAAGAGTGGTGCAGAGAGAAAAAAGAGCAATAGGAATAGGAGCTGTGTTCCTTGGGTTCTTGGGAGCAGCAGGAAGCACTATGGGCGCAGCGTCATTGACGCTGACGGTACAGGCCAGGCAATTACTGTCTGGTATAGTGCAACAGCAGAACAATCTGCTGAGGGCTATTGAGGCGCAACAGCATCTGTTGCAACTCACAGTCTGGGGCATCAAGCAGCTCCAGGCAAGAGTCCTGGCTGTGGAAAGATACCTACGGGATCAACAGCTCCTGGGAATTTGGGGGTGCTCTGGAAAACTCATTTGCACCACTACTGTGCCTTGGAATACTAGTTGGAGTAATAAATCTCTGGATGTAATTTGGGGTAACATGACCTGGATGCAGTGGGAAAGAGAAATTGACAATTAC-------------ACAACTTAATTGAAGAATCGCAGAACCAACAAGAAAAGAATGAACAAGACTTCTTGGCACTAGACAAATGGGCAAGTTTGTGGAATTGGTTTGACATATCAAAATGGCTGTGGTATATAAAAATATTCATAATGATAGTAGGAGGCTTAATAGGTTTAAGAATAGTTTTTACTGTACTTTCTATAGTAAATAGAGTTAGGCAGGGATACTCACCATTATCGTTACAGACCCGCCTCCCAACCCAGAGGGGACCCGACAGGCCCGAAGGAATCGAAGAAGAAGGTGGAGAGAGAGACAGAGACAGATCCGAACCATTAGCGGGTGGATTCTTAACACTTATCTGGATCGACCTGAGGAGCCTGTGCATCTTCAGCTACCACCGCTTGAGAGACTTACTCTTGATTGTAACGAGGATTGTGGAACTTCTGGGACACAGGGGGTGGGCAATCCTCAAATATTGGTGGAATCTCCTACAGTATTGGAGTCAGGAGCTAAAGAATAGTGCTGTTAGCTTGTTTAATGCCATAGCTATAGCAGTAGCTGAGGGGACAGATAGGGTTATAGAAGTAGCACAAAGAGCTTTTAGAGCTATTCTTCACATACCTAGAAGAATAAGACAGGGCTTC\n",
      "'}]\n",
      "time,ms 188656\n"
     ]
    }
   ],
   "source": [
    "#reconstruct haplotypes with CliqueSNV\n",
    "!for p in {1..11}; do for i in {1..11}; do a=\"reads_sorted_p${p}_${i}_F4_F5.sam\" ; java -jar clique-snv.jar -m snv-illumina -in $a -outDir p${p}_${i} -tf 0.001 -t 10 ; done ; done"
   ]
  }
 ],
 "metadata": {
  "kernelspec": {
   "display_name": "Python 3",
   "language": "python",
   "name": "python3"
  },
  "language_info": {
   "codemirror_mode": {
    "name": "ipython",
    "version": 3
   },
   "file_extension": ".py",
   "mimetype": "text/x-python",
   "name": "python",
   "nbconvert_exporter": "python",
   "pygments_lexer": "ipython3",
   "version": "3.7.4"
  }
 },
 "nbformat": 4,
 "nbformat_minor": 4
}
