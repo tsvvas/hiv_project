{
 "cells": [
  {
   "cell_type": "code",
   "execution_count": 156,
   "metadata": {},
   "outputs": [],
   "source": [
    "import Bio.Phylo.Applications as app\n",
    "from Bio import Phylo\n",
    "from Bio.Seq import Seq\n",
    "from Bio.SeqRecord import SeqRecord\n",
    "from Bio import SeqIO\n",
    "import matplotlib.pyplot as plt\n",
    "import matplotlib\n",
    "import os\n",
    "import sys\n",
    "import pandas as pd\n",
    "import graphviz\n",
    "import pygraphviz\n",
    "import ete3\n",
    "\n",
    "# adding project folder to lib search path\n",
    "project = \"/\".join((os.path.split(os.getcwd())[0], os.path.split(os.getcwd())[1], 'scripts'))\n",
    "if project not in sys.path:\n",
    "    sys.path.append(project)\n",
    "    \n",
    "from loader import *\n",
    "import work_with_files\n",
    "import patients_and_translation\n",
    "import phylo_tree\n",
    "import classificator_k_mer\n",
    "from data_prep_k_mer import *\n",
    "from calculating_metrics import *"
   ]
  },
  {
   "cell_type": "code",
   "execution_count": 2,
   "metadata": {},
   "outputs": [],
   "source": [
    "haplo_seq_dict, days = work_with_files.read_fasta_haplo(f'data/fasta/hivevo_p1_V3.fasta')\n",
    "seq_dict, seq_name_dict = patients_and_translation.preparing_data(haplo_seq_dict, days)"
   ]
  },
  {
   "cell_type": "code",
   "execution_count": 3,
   "metadata": {},
   "outputs": [
    {
     "data": {
      "text/plain": [
       "['122',\n",
       " '562',\n",
       " '1084',\n",
       " '1254',\n",
       " '1282',\n",
       " '1393',\n",
       " '1861',\n",
       " '2303',\n",
       " '2578',\n",
       " '2639',\n",
       " '2922',\n",
       " '2996']"
      ]
     },
     "execution_count": 3,
     "metadata": {},
     "output_type": "execute_result"
    }
   ],
   "source": [
    "days"
   ]
  },
  {
   "cell_type": "code",
   "execution_count": 4,
   "metadata": {},
   "outputs": [],
   "source": [
    "id_ = 0\n",
    "\n",
    "for dict_ in haplo_seq_dict:\n",
    "    dict_['id'] = id_\n",
    "    id_ += 1\n",
    "    for day in days:\n",
    "        if day in dict_['desc']:\n",
    "            dict_['day'] = day\n",
    "            dict_.pop('desc')\n",
    "            break\n",
    "        else:\n",
    "            continue\n",
    "    else:\n",
    "        dict_['day'] = '0'\n",
    "        dict_.pop('desc')"
   ]
  },
  {
   "cell_type": "code",
   "execution_count": 5,
   "metadata": {},
   "outputs": [
    {
     "data": {
      "text/html": [
       "<div>\n",
       "<style scoped>\n",
       "    .dataframe tbody tr th:only-of-type {\n",
       "        vertical-align: middle;\n",
       "    }\n",
       "\n",
       "    .dataframe tbody tr th {\n",
       "        vertical-align: top;\n",
       "    }\n",
       "\n",
       "    .dataframe thead th {\n",
       "        text-align: right;\n",
       "    }\n",
       "</style>\n",
       "<table border=\"1\" class=\"dataframe\">\n",
       "  <thead>\n",
       "    <tr style=\"text-align: right;\">\n",
       "      <th></th>\n",
       "      <th>seq</th>\n",
       "      <th>day</th>\n",
       "    </tr>\n",
       "    <tr>\n",
       "      <th>id</th>\n",
       "      <th></th>\n",
       "      <th></th>\n",
       "    </tr>\n",
       "  </thead>\n",
       "  <tbody>\n",
       "    <tr>\n",
       "      <td>0</td>\n",
       "      <td>GTGGTATCAACTCAATTGCTGTTAAATGGCAGTCTAGCAGAAGAAG...</td>\n",
       "      <td>122</td>\n",
       "    </tr>\n",
       "    <tr>\n",
       "      <td>1</td>\n",
       "      <td>GTGGTATCAACTCAATTGCTGTTAAATGGCAGTCTAGCAGAAGAAG...</td>\n",
       "      <td>562</td>\n",
       "    </tr>\n",
       "    <tr>\n",
       "      <td>2</td>\n",
       "      <td>GTGGTATCAACTCAATTGCTGTTAAATGGCAGTCTAGCAGAAGAAG...</td>\n",
       "      <td>562</td>\n",
       "    </tr>\n",
       "    <tr>\n",
       "      <td>3</td>\n",
       "      <td>GTGGTATCAACTCAATTGCTGTTAAATGGCAGTCTAGCAGAAGAAG...</td>\n",
       "      <td>562</td>\n",
       "    </tr>\n",
       "    <tr>\n",
       "      <td>4</td>\n",
       "      <td>GTGGTATCAACTCAATTGCTGTTAAATGGCAGTCTAGCAGAAGAAG...</td>\n",
       "      <td>562</td>\n",
       "    </tr>\n",
       "    <tr>\n",
       "      <td>...</td>\n",
       "      <td>...</td>\n",
       "      <td>...</td>\n",
       "    </tr>\n",
       "    <tr>\n",
       "      <td>99</td>\n",
       "      <td>GTGGTGTCAACTCAATTGCTATTAAATGGCAGTCTAGCAGAAGAAG...</td>\n",
       "      <td>2922</td>\n",
       "    </tr>\n",
       "    <tr>\n",
       "      <td>100</td>\n",
       "      <td>GTGGTGTCAACTCAATTGCTATTAAATGGCAGTCTAGCAGAAGAAG...</td>\n",
       "      <td>2996</td>\n",
       "    </tr>\n",
       "    <tr>\n",
       "      <td>101</td>\n",
       "      <td>GTGGTGTCAACTCAATTGCTATTAAATGGCAGTCTAGCAGAAGAAG...</td>\n",
       "      <td>2922</td>\n",
       "    </tr>\n",
       "    <tr>\n",
       "      <td>102</td>\n",
       "      <td>GTGGTGTCAACTCAATTGCTATTAAATGGCAGTCTAGCAGAAGAGG...</td>\n",
       "      <td>2922</td>\n",
       "    </tr>\n",
       "    <tr>\n",
       "      <td>103</td>\n",
       "      <td>GTGGTATCAACTCAATTGCTGTTAAATGGCAGTCTAGCAGAAGAAG...</td>\n",
       "      <td>0</td>\n",
       "    </tr>\n",
       "  </tbody>\n",
       "</table>\n",
       "<p>104 rows × 2 columns</p>\n",
       "</div>"
      ],
      "text/plain": [
       "                                                   seq   day\n",
       "id                                                          \n",
       "0    GTGGTATCAACTCAATTGCTGTTAAATGGCAGTCTAGCAGAAGAAG...   122\n",
       "1    GTGGTATCAACTCAATTGCTGTTAAATGGCAGTCTAGCAGAAGAAG...   562\n",
       "2    GTGGTATCAACTCAATTGCTGTTAAATGGCAGTCTAGCAGAAGAAG...   562\n",
       "3    GTGGTATCAACTCAATTGCTGTTAAATGGCAGTCTAGCAGAAGAAG...   562\n",
       "4    GTGGTATCAACTCAATTGCTGTTAAATGGCAGTCTAGCAGAAGAAG...   562\n",
       "..                                                 ...   ...\n",
       "99   GTGGTGTCAACTCAATTGCTATTAAATGGCAGTCTAGCAGAAGAAG...  2922\n",
       "100  GTGGTGTCAACTCAATTGCTATTAAATGGCAGTCTAGCAGAAGAAG...  2996\n",
       "101  GTGGTGTCAACTCAATTGCTATTAAATGGCAGTCTAGCAGAAGAAG...  2922\n",
       "102  GTGGTGTCAACTCAATTGCTATTAAATGGCAGTCTAGCAGAAGAGG...  2922\n",
       "103  GTGGTATCAACTCAATTGCTGTTAAATGGCAGTCTAGCAGAAGAAG...     0\n",
       "\n",
       "[104 rows x 2 columns]"
      ]
     },
     "execution_count": 5,
     "metadata": {},
     "output_type": "execute_result"
    }
   ],
   "source": [
    "seq_data = pd.DataFrame.from_dict(haplo_seq_dict, orient='columns')\n",
    "\n",
    "seq_data.set_index('id', inplace=True)\n",
    "\n",
    "seq_data"
   ]
  },
  {
   "cell_type": "code",
   "execution_count": 6,
   "metadata": {},
   "outputs": [],
   "source": [
    "seq_data_562 = seq_data.loc[seq_data['day'] == '562']\n",
    "seq_data_1084 = seq_data.loc[seq_data['day'] == '1084']"
   ]
  },
  {
   "cell_type": "code",
   "execution_count": 41,
   "metadata": {
    "scrolled": true
   },
   "outputs": [],
   "source": [
    "records = []\n",
    "\n",
    "seq_ex_row = seq_data_1084.iloc[0]\n",
    "seq_ex, id_, day = seq_ex_row['seq'], seq_ex_row.name, seq_ex_row['day']\n",
    "\n",
    "rec = SeqRecord(Seq(seq_ex))\n",
    "rec.id = str(id_) + '_d=' + day\n",
    "rec.name = day\n",
    "records.append(rec)\n",
    "\n",
    "for index, row in seq_data_562.iterrows():\n",
    "    id_, seq, day = index, row['seq'], row['day']\n",
    "    rec = SeqRecord(Seq(seq))\n",
    "    rec.id = str(id_) + '_d=' + day\n",
    "    rec.name = day\n",
    "    records.append(rec)"
   ]
  },
  {
   "cell_type": "code",
   "execution_count": 42,
   "metadata": {},
   "outputs": [
    {
     "data": {
      "text/plain": [
       "[SeqRecord(seq=Seq('GTGGTATCAACTCAATTGCTGTTAAATGGCAGTCTAGCAGAAGAAGACATAATA...CAT'), id='14_d=1084', name='1084', description='<unknown description>', dbxrefs=[]),\n",
       " SeqRecord(seq=Seq('GTGGTATCAACTCAATTGCTGTTAAATGGCAGTCTAGCAGAAGAAGACATAATA...CAT'), id='1_d=562', name='562', description='<unknown description>', dbxrefs=[]),\n",
       " SeqRecord(seq=Seq('GTGGTATCAACTCAATTGCTGTTAAATGGCAGTCTAGCAGAAGAAGACATAATA...CAT'), id='2_d=562', name='562', description='<unknown description>', dbxrefs=[]),\n",
       " SeqRecord(seq=Seq('GTGGTATCAACTCAATTGCTGTTAAATGGCAGTCTAGCAGAAGAAGACATAATA...CAT'), id='3_d=562', name='562', description='<unknown description>', dbxrefs=[]),\n",
       " SeqRecord(seq=Seq('GTGGTATCAACTCAATTGCTGTTAAATGGCAGTCTAGCAGAAGAAGACATAATA...CAT'), id='4_d=562', name='562', description='<unknown description>', dbxrefs=[]),\n",
       " SeqRecord(seq=Seq('GTGGTATCAACTCAATTGCTGTTAAATGGCAGTCTAGCAGAAGAAGACATAATA...CAT'), id='5_d=562', name='562', description='<unknown description>', dbxrefs=[]),\n",
       " SeqRecord(seq=Seq('GTGGTATCAACTCAATTGCTGTTAAATGGCAGTCTAGCAGAAGAAGACATAATA...CAT'), id='6_d=562', name='562', description='<unknown description>', dbxrefs=[]),\n",
       " SeqRecord(seq=Seq('GTGGTATCAACTCAATTGCTGTTAAATGGCAGTCTAGCAGAAGAAGACATAATA...CAT'), id='7_d=562', name='562', description='<unknown description>', dbxrefs=[]),\n",
       " SeqRecord(seq=Seq('GTGGTATCAACTCAATTGCTGTTAAATGGCAGTCTAGCAGAAGAAGACATAATA...CAT'), id='8_d=562', name='562', description='<unknown description>', dbxrefs=[]),\n",
       " SeqRecord(seq=Seq('GTGGTATCAACTCAATTGCTGTTAAATGGCAGTCTAGCAGAAGAAGACATAATA...CAT'), id='23_d=562', name='562', description='<unknown description>', dbxrefs=[])]"
      ]
     },
     "execution_count": 42,
     "metadata": {},
     "output_type": "execute_result"
    }
   ],
   "source": [
    "records"
   ]
  },
  {
   "cell_type": "code",
   "execution_count": 43,
   "metadata": {},
   "outputs": [],
   "source": [
    "with open('test.phy', 'w') as file:\n",
    "    SeqIO.write(records, file, 'phylip')"
   ]
  },
  {
   "cell_type": "code",
   "execution_count": 152,
   "metadata": {},
   "outputs": [],
   "source": [
    "#phyml = app.PhymlCommandline(cmd = '-i test.phy -d nt -m GTR -b 100')\n",
    "phyml = app.PhymlCommandline(input='test.phy', cmd='phyml')\n",
    "phyml.set_parameter('-d', 'nt')\n",
    "phyml.set_parameter('-m', 'GTR')\n",
    "phyml.set_parameter('-b', 100)\n",
    "#phyml.set_parameter('-i', 'test.phy')"
   ]
  },
  {
   "cell_type": "code",
   "execution_count": 153,
   "metadata": {
    "scrolled": false
   },
   "outputs": [
    {
     "name": "stdout",
     "output_type": "stream",
     "text": [
      "(\"\\n. Command line: /usr/lib/phyml/bin/phyml-mpi -i test.phy -d nt -b 100 -m GTR \\n\\n\\n\\n\\n\\n\\t\\t\\t⁜\\t SETTINGS \\t⁜  \\n\\n\\n        ‣ Sequence filename:\\t\\t\\t\\t test.phy\\n        ‣ Data type:\\t\\t\\t\\t\\t dna\\n        ‣ Alphabet size:\\t\\t\\t\\t 4\\n        ‣ Sequence format:\\t\\t\\t\\t interleaved\\n        ‣ Number of data sets:\\t\\t\\t\\t 1\\n        ‣ Nb of bootstrapped data sets:\\t\\t\\t 100\\n        ‣ Compute approximate likelihood ratio test:\\t no\\n        ‣ Model name:\\t\\t\\t\\t\\t GTR\\n        ‣ Proportion of invariable sites:\\t\\t 0.000000\\n        ‣ Number of subst. rate catgs:\\t\\t\\t 4\\n        ‣ Gamma distribution parameter:\\t\\t\\t estimated\\n        ‣ 'Middle' of each rate class:\\t\\t\\t mean\\n        ‣ Nucleotide equilibrium frequencies:\\t\\t empirical\\n        ‣ Optimise tree topology:\\t\\t\\t yes\\n        ‣ Tree topology search:\\t\\t\\t\\t NNIs\\n        ‣ Starting tree:\\t\\t\\t\\t BioNJ\\n        ‣ Add random input tree:\\t\\t\\t no\\n        ‣ Optimise branch lengths:\\t\\t\\t yes\\n        ‣ Optimise substitution model parameters:\\t yes\\n        ‣ Run ID:\\t\\t\\t\\t\\t none\\n        ‣ Random seed:\\t\\t\\t\\t\\t 1583859926\\n        ‣ Subtree patterns aliasing:\\t\\t\\t no\\n        ‣ Version:\\t\\t\\t\\t\\t 3.3.3:3.3.20170530+dfsg-2\\n        ‣ Byte alignment:\\t\\t\\t\\t 1\\n        ‣ AVX enabled:\\t\\t\\t\\t\\t no\\n        ‣ SSE enabled:\\t\\t\\t\\t\\t no\\n\\n                           ⁜ ⁜ ⁜ ⁜ ⁜ ⁜ ⁜ ⁜ ⁜ ⁜ ⁜ ⁜  \\n\\n\\n\\n• 20 patterns found (out of a total of 358 sites). \\n\\n• 340 sites without polymorphism (94.97%).\\n\\n• Computing pairwise distances...\\n\\n• Building BioNJ tree...\\n\\n• Score of initial tree:      -584.00\\n\\n• Building a list of starting trees (NNI search)...\\n\\n\\t ╭─────────────────────────╮ \\n\\t │   0           -584.00   │\\n\\t ├─────────────────────────┤\\n\\t │   1           -584.00   │\\n\\t ├─────────────────────────┤\\n\\t │   2           -584.00   │ •\\n\\t ├─────────────────────────┤\\n\\t │   3           -584.00   │\\n\\t ├─────────────────────────┤\\n\\t │   4           -584.00   │\\n\\t ├─────────────────────────┤\\n\\t │   5           -583.96   │ •\\n\\t ├─────────────────────────┤\\n\\t │   6           -583.96   │ •\\n\\t ├─────────────────────────┤\\n\\t │   7           -583.96   │\\n\\t ├─────────────────────────┤\\n\\t │   8           -583.96   │\\n\\t ├─────────────────────────┤\\n\\t │   9           -584.00   │\\n\\t ├─────────────────────────┤\\n\\t │  10           -583.96   │\\n\\t ├─────────────────────────┤\\n\\t │  11           -583.96   │\\n\\t ├─────────────────────────┤\\n\\t │  12           -583.96   │ •\\n\\t ├─────────────────────────┤\\n\\t │  13           -584.00   │\\n\\t ├─────────────────────────┤\\n\\t │  14           -583.96   │\\n\\t ╰─────────────────────────╯ \\n\\n• Fast optimisation of the best trees (SPR search)...\\n\\n\\t ╭─────────────────────────╮ \\n\\t │   1           -583.96   │ •\\n\\t ╰─────────────────────────╯ \\n\\n• Thorough optimisation of the best trees (SPR search)...\\n\\n\\t ╭─────────────────────────╮ \\n\\t │   1           -583.96   │ •\\n\\t ├─────────────────────────┤\\n\\t │   2           -583.96   │ •\\n\\t ╰─────────────────────────╯ \\n\\n• Final optimisation steps...\\n\\n\\n• Log likelihood of the current tree: -583.955779.\\n\\n• Launch bootstrap analysis on the most likely tree...\\n\\n• The bootstrap analysis will use 4 CPUs.\\n. Non parametric bootstrap analysis \\n\\n  [••••••••••••••••••••]   20/ 100\\n  [••••••••••••••••••••]   40/ 100\\n  [••••••••••••••••••••]   60/ 100\\n  [••••••••••••••••••••]   80/ 100\\n  [••••••••••••••••••••]  100/ 100\\n  \\n\\n. Exiting bootstrap function normally.\\n\\n• Completed the bootstrap analysis succesfully.\\n\\n• Printing the most likely tree in file 'test.phy_phyml_tree.txt'.\\n\\n• Time used 0h0m6s\\n\\noooooooooooooooooooooooooooooooooooooooooooooooooooooooooooooooooooooooooooooooooooooooooooooooo\\n\", '')\n"
     ]
    }
   ],
   "source": [
    "print(phyml())"
   ]
  },
  {
   "cell_type": "code",
   "execution_count": 174,
   "metadata": {},
   "outputs": [
    {
     "data": {
      "image/png": "[encoded data removed]",
      "text/plain": [
       "<Figure size 600x600 with 1 Axes>"
      ]
     },
     "metadata": {
      "needs_background": "light"
     },
     "output_type": "display_data"
    }
   ],
   "source": [
    "def plot_tree(tree_file, output_file):\n",
    "    tree = Phylo.read(tree_file, \"newick\")\n",
    "    matplotlib.rc('font', size=14)\n",
    "    fig = plt.figure(figsize=(6, 6), dpi=100)\n",
    "    axes = fig.add_subplot(1, 1, 1)\n",
    "    Phylo.draw(tree, axes=axes)\n",
    "    plt.show()\n",
    "\n",
    "    return tree\n",
    "\n",
    "tree = plot_tree('test.phy_phyml_tree.txt', 'asd.png')"
   ]
  },
  {
   "cell_type": "code",
   "execution_count": 175,
   "metadata": {},
   "outputs": [
    {
     "data": {
      "text/plain": [
       "{'7_d=562': 0.02050915,\n",
       " '2_d=562': 0.026367540000000002,\n",
       " '1_d=562': 0.020373830000000002,\n",
       " '5_d=562': 0.01748725,\n",
       " '8_d=562': 0.01460345,\n",
       " '6_d=562': 0.017486520000000002,\n",
       " '23_d=562': 0.01747384,\n",
       " '4_d=562': 0.01460471,\n",
       " '3_d=562': 0.01748734}"
      ]
     },
     "execution_count": 175,
     "metadata": {},
     "output_type": "execute_result"
    }
   ],
   "source": [
    "def find_neighbour(tree, target_clade_name):\n",
    "    \n",
    "    '''try:\n",
    "        search_clade = next(tree.find_clades(target_clade_name))\n",
    "    except:\n",
    "        raise ValueError('Wrong name of the clade')'''\n",
    "    \n",
    "    clades_list = tree.get_terminals()\n",
    "    \n",
    "    search_clade = next(tree.find_clades(target_clade_name))\n",
    "    \n",
    "    clades_names = [clades_list[i].name for i in range(len(clades_list))]\n",
    "    \n",
    "    dist_dict = {}\n",
    "    \n",
    "    for cl_name in clades_names:\n",
    "        if cl_name != target_clade_name:\n",
    "            dist_dict[cl_name] = tree.distance(cl_name, target_clade_name)\n",
    "            \n",
    "    return dist_dict\n",
    "\n",
    "find_neighbour(tree, '14_d=1084')"
   ]
  },
  {
   "cell_type": "code",
   "execution_count": 134,
   "metadata": {
    "scrolled": true
   },
   "outputs": [
    {
     "data": {
      "text/plain": [
       "[Clade(branch_length=0.00583867, name='7_d=562'),\n",
       " Clade(branch_length=0.00287262, name='4_d=562'),\n",
       " Clade(branch_length=0.01172962, name='14_d=1084'),\n",
       " Clade(branch_length=0.00575478, name='3_d=562'),\n",
       " Clade(branch_length=0.0028829, name='6_d=562'),\n",
       " Clade(branch_length=0.0, name='8_d=562'),\n",
       " Clade(branch_length=0.0028836, name='5_d=562'),\n",
       " Clade(branch_length=0.0028702, name='23_d=562'),\n",
       " Clade(branch_length=0.00279812, name='1_d=562'),\n",
       " Clade(branch_length=0.00879233, name='2_d=562')]"
      ]
     },
     "execution_count": 134,
     "metadata": {},
     "output_type": "execute_result"
    }
   ],
   "source": [
    "clades_list = tree.get_terminals()\n",
    "clades_list"
   ]
  },
  {
   "cell_type": "code",
   "execution_count": 142,
   "metadata": {},
   "outputs": [
    {
     "data": {
      "text/plain": [
       "['7_d=562',\n",
       " '4_d=562',\n",
       " '14_d=1084',\n",
       " '3_d=562',\n",
       " '6_d=562',\n",
       " '8_d=562',\n",
       " '5_d=562',\n",
       " '23_d=562',\n",
       " '1_d=562',\n",
       " '2_d=562']"
      ]
     },
     "execution_count": 142,
     "metadata": {},
     "output_type": "execute_result"
    }
   ],
   "source": [
    "clades_names = [clades_list[i].name for i in range(len(clades_list))]\n",
    "\n",
    "clades_names"
   ]
  },
  {
   "cell_type": "code",
   "execution_count": 165,
   "metadata": {},
   "outputs": [],
   "source": [
    "def get_parent(tree, child_clade):\n",
    "    node_path = tree.get_path(child_clade)\n",
    "    return node_path[-2]"
   ]
  },
  {
   "cell_type": "code",
   "execution_count": 138,
   "metadata": {},
   "outputs": [
    {
     "data": {
      "text/plain": [
       "{Clade(branch_length=0.00583867, name='7_d=562'): Clade(),\n",
       " Clade(branch_length=0.00287137, confidence=87): Clade(),\n",
       " Clade(branch_length=0.0, confidence=11): Clade(),\n",
       " Clade(branch_length=0.00287262, name='4_d=562'): Clade(branch_length=0.00287137, confidence=87),\n",
       " Clade(branch_length=0.0, confidence=33): Clade(branch_length=0.00287137, confidence=87),\n",
       " Clade(branch_length=0.0028829, name='6_d=562'): Clade(branch_length=0.0, confidence=11),\n",
       " Clade(branch_length=0.0, confidence=3): Clade(branch_length=0.0, confidence=11),\n",
       " Clade(branch_length=0.01172962, name='14_d=1084'): Clade(branch_length=0.0, confidence=33),\n",
       " Clade(branch_length=0.00575478, name='3_d=562'): Clade(branch_length=0.0, confidence=33),\n",
       " Clade(branch_length=0.0, name='8_d=562'): Clade(branch_length=0.0, confidence=3),\n",
       " Clade(branch_length=0.0, confidence=3): Clade(branch_length=0.0, confidence=3),\n",
       " Clade(branch_length=0.0028836, name='5_d=562'): Clade(branch_length=0.0, confidence=3),\n",
       " Clade(branch_length=0.0, confidence=3): Clade(branch_length=0.0, confidence=3),\n",
       " Clade(branch_length=0.0028702, name='23_d=562'): Clade(branch_length=0.0, confidence=3),\n",
       " Clade(branch_length=0.0029719, confidence=85): Clade(branch_length=0.0, confidence=3),\n",
       " Clade(branch_length=0.00279812, name='1_d=562'): Clade(branch_length=0.0029719, confidence=85),\n",
       " Clade(branch_length=0.00879233, name='2_d=562'): Clade(branch_length=0.0029719, confidence=85)}"
      ]
     },
     "execution_count": 138,
     "metadata": {},
     "output_type": "execute_result"
    }
   ],
   "source": [
    "def all_parents(tree):\n",
    "    parents = {}\n",
    "    for clade in tree.find_clades(order='level'):\n",
    "        for child in clade:\n",
    "            parents[child] = clade\n",
    "    return parents\n",
    "\n",
    "all_parents(tree)"
   ]
  },
  {
   "cell_type": "code",
   "execution_count": 166,
   "metadata": {},
   "outputs": [
    {
     "name": "stdout",
     "output_type": "stream",
     "text": [
      "\n",
      "   /-7_d=562\n",
      "  |\n",
      "  |   /-2_d=562\n",
      "--|--|\n",
      "  |   \\-1_d=562\n",
      "  |\n",
      "  |   /-5_d=562\n",
      "   \\-|\n",
      "     |   /-8_d=562\n",
      "      \\-|\n",
      "        |   /-6_d=562\n",
      "         \\-|\n",
      "           |   /-23_d=562\n",
      "            \\-|\n",
      "              |   /-4_d=562\n",
      "               \\-|\n",
      "                 |   /-3_d=562\n",
      "                  \\-|\n",
      "                     \\-14_d=1084\n"
     ]
    }
   ],
   "source": [
    "from ete3 import Tree\n",
    "\n",
    "tree = Tree('test.phy_phyml_tree.txt', format=2)\n",
    "print(tree)"
   ]
  },
  {
   "cell_type": "code",
   "execution_count": 167,
   "metadata": {},
   "outputs": [
    {
     "data": {
      "text/plain": [
       "['7_d=562',\n",
       " '2_d=562',\n",
       " '1_d=562',\n",
       " '5_d=562',\n",
       " '8_d=562',\n",
       " '6_d=562',\n",
       " '23_d=562',\n",
       " '4_d=562',\n",
       " '3_d=562',\n",
       " '14_d=1084']"
      ]
     },
     "execution_count": 167,
     "metadata": {},
     "output_type": "execute_result"
    }
   ],
   "source": [
    "tree.get_leaf_names()"
   ]
  },
  {
   "cell_type": "code",
   "execution_count": 172,
   "metadata": {},
   "outputs": [
    {
     "data": {
      "text/plain": [
       "Tree node '' (0x7fafc201171)"
      ]
     },
     "execution_count": 172,
     "metadata": {},
     "output_type": "execute_result"
    }
   ],
   "source": [
    "tree.get_common_ancestor('3_d=562', '14_d=1084')"
   ]
  },
  {
   "cell_type": "code",
   "execution_count": null,
   "metadata": {},
   "outputs": [],
   "source": []
  }
 ],
 "metadata": {
  "kernelspec": {
   "display_name": "Python 3",
   "language": "python",
   "name": "python3"
  },
  "language_info": {
   "codemirror_mode": {
    "name": "ipython",
    "version": 3
   },
   "file_extension": ".py",
   "mimetype": "text/x-python",
   "name": "python",
   "nbconvert_exporter": "python",
   "pygments_lexer": "ipython3",
   "version": "3.7.4"
  }
 },
 "nbformat": 4,
 "nbformat_minor": 2
}
