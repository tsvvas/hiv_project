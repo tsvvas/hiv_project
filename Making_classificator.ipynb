{
 "cells": [
  {
   "cell_type": "code",
   "execution_count": 1,
   "metadata": {},
   "outputs": [],
   "source": [
    "%matplotlib inline\n",
    "\n",
    "import numpy as np\n",
    "import scipy as scp\n",
    "import re\n",
    "import os\n",
    "import sys\n",
    "import pandas as pd\n",
    "import shutil\n",
    "from Bio import SeqIO\n",
    "from Bio.SeqRecord import SeqRecord\n",
    "from Bio.Seq import Seq\n",
    "from Bio import Align\n",
    "import matplotlib.pyplot as plt\n",
    "import itertools\n",
    "from joblib import load\n",
    "\n",
    "# adding project folder to lib search path\n",
    "project = \"/\".join((os.path.split(os.getcwd())[0], os.path.split(os.getcwd())[1], 'scripts'))\n",
    "if project not in sys.path:\n",
    "    sys.path.append(project)\n",
    "    \n",
    "from loader import *\n",
    "from work_with_files import *\n",
    "import tree_building\n",
    "import classificator_k_mer\n",
    "import data_prep_k_mer\n",
    "from calculating_metrics import *"
   ]
  },
  {
   "cell_type": "code",
   "execution_count": 3,
   "metadata": {},
   "outputs": [
    {
     "data": {
      "application/vnd.jupyter.widget-view+json": {
       "model_id": "73a31bf6809e4fc2932455e93c231adc",
       "version_major": 2,
       "version_minor": 0
      },
      "text/plain": [
       "HBox(children=(FloatProgress(value=0.0, max=20.0), HTML(value='')))"
      ]
     },
     "metadata": {},
     "output_type": "display_data"
    },
    {
     "name": "stdout",
     "output_type": "stream",
     "text": [
      "\n"
     ]
    }
   ],
   "source": [
    "data_prep_k_mer.main_analyzes('data/proteomes/human_proteome.fasta', 2)"
   ]
  },
  {
   "cell_type": "code",
   "execution_count": 2,
   "metadata": {},
   "outputs": [],
   "source": [
    "feature_matrix, labels = classificator_k_mer.preprocessing_data('data/csv_data/')"
   ]
  },
  {
   "cell_type": "code",
   "execution_count": 3,
   "metadata": {},
   "outputs": [
    {
     "name": "stdout",
     "output_type": "stream",
     "text": [
      "              precision    recall  f1-score   support\n",
      "\n",
      "           0       0.85      1.00      0.92     12209\n",
      "           1       0.97      0.32      0.49      3084\n",
      "\n",
      "    accuracy                           0.86     15293\n",
      "   macro avg       0.91      0.66      0.70     15293\n",
      "weighted avg       0.88      0.86      0.83     15293\n",
      "\n",
      "Saving classificator in ../saved_sklearn_models/ folder\n"
     ]
    }
   ],
   "source": [
    "classificator_k_mer.making_classificator(feature_matrix, labels, 'my_model')"
   ]
  },
  {
   "cell_type": "code",
   "execution_count": null,
   "metadata": {},
   "outputs": [],
   "source": []
  }
 ],
 "metadata": {
  "kernelspec": {
   "display_name": "Python 3",
   "language": "python",
   "name": "python3"
  },
  "language_info": {
   "codemirror_mode": {
    "name": "ipython",
    "version": 3
   },
   "file_extension": ".py",
   "mimetype": "text/x-python",
   "name": "python",
   "nbconvert_exporter": "python",
   "pygments_lexer": "ipython3",
   "version": "3.7.6"
  }
 },
 "nbformat": 4,
 "nbformat_minor": 4
}
