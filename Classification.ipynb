{
 "cells": [
  {
   "cell_type": "code",
   "execution_count": 83,
   "metadata": {},
   "outputs": [],
   "source": [
    "import numpy as np\n",
    "import scipy as scp\n",
    "import re\n",
    "from Bio import SeqIO\n",
    "from Bio.SeqRecord import SeqRecord\n",
    "from Bio.Seq import Seq\n",
    "import matplotlib.pyplot as plt\n",
    "\n",
    "#from HIV_project.scripts.download import read_fasta"
   ]
  },
  {
   "cell_type": "code",
   "execution_count": 59,
   "metadata": {},
   "outputs": [],
   "source": [
    "from joblib import load\n",
    "from sklearn.model_selection import train_test_split\n",
    "from sklearn.linear_model import LogisticRegression\n",
    "from sklearn.metrics import f1_score, accuracy_score\n",
    "from sklearn import preprocessing\n",
    "from sklearn.ensemble import RandomForestClassifier\n",
    "from sklearn.model_selection import GridSearchCV\n",
    "from sklearn.svm import SVC\n",
    "from sklearn.metrics import classification_report\n",
    "from sklearn.ensemble import AdaBoostClassifier\n",
    "from sklearn.tree import DecisionTreeClassifier"
   ]
  },
  {
   "cell_type": "code",
   "execution_count": 39,
   "metadata": {},
   "outputs": [],
   "source": [
    "### Should be imported but I dunno how \t(⇀‸↼‶)\n",
    "\n",
    "def sort_lst(lst):\n",
    "    \"\"\"\n",
    "    Making list, which contain numbers in str format, sorted, but numbers will still be in str\n",
    "\n",
    "    Args:\n",
    "        lst: list, list to sort\n",
    "\n",
    "    Returns:\n",
    "        list\n",
    "\n",
    "    \"\"\"\n",
    "    return [str(x) for x in sorted([int(x) for x in lst])]\n",
    "\n",
    "\n",
    "def read_fasta(path):\n",
    "    \"\"\"\n",
    "    Read fasta\n",
    "    Args:\n",
    "        path: str, path to fasta file\n",
    "\n",
    "    Returns:\n",
    "        list of dicts and list of day:\n",
    "            dict in list of dicts have 'desc' and 'seq' keys\n",
    "            list of days contain all days of HIV seq we know for exact patient\n",
    "    \"\"\"\n",
    "    haplo_seq_dict = []\n",
    "    days = []\n",
    "    patt = r'_[\\d]*_'  # for days\n",
    "    records = []\n",
    "    with open(path) as fasta_file:  # Reading\n",
    "        for record in SeqIO.parse(fasta_file, 'fasta'):\n",
    "            records.append(record)\n",
    "\n",
    "    haplo_seq_dict = []\n",
    "    for record in records:\n",
    "        haplo_seq_dict.append({})\n",
    "        if 'reference' in record.description:\n",
    "            haplo_seq_dict[-1]['seq'] = str(record.seq)\n",
    "            haplo_seq_dict[-1]['desc'] = 'reference'\n",
    "            days.append('0')\n",
    "        # print('1')\n",
    "        if 'reference' not in record.description:  # Making days, lst\n",
    "            days.append((re.search(patt, record.description).group(0).replace('_', '')))\n",
    "            haplo_seq_dict[-1]['seq'] = str(record.seq)\n",
    "            haplo_seq_dict[-1]['desc'] = record.description.lstrip()\n",
    "\n",
    "    days = list(set(days))\n",
    "    days = sort_lst(days)\n",
    "\n",
    "    return haplo_seq_dict, days\n",
    "\n",
    "\n",
    "def preparing_data(haplo_seq_dict, days):\n",
    "    patt = r'_[\\d]*_'\n",
    "    seq_dict = {} \n",
    "    seq_name_days_dict = {x:[] for x in days}\n",
    "    for obj in haplo_seq_dict:\n",
    "        seq_dict[obj['desc']]=obj['seq']\n",
    "        res = re.search(patt, obj['desc'])\n",
    "        if res != None:\n",
    "            seq_name_days_dict[re.search(patt, obj['desc']).group(0).replace('_','')].append(obj['desc'])\n",
    "        else:\n",
    "            pass\n",
    "    return seq_dict, seq_name_days_dict\n",
    "\n",
    "def translating_seqs(seq_dict):\n",
    "    prot_dict = {}\n",
    "    for key in seq_dict:\n",
    "        prot_dict[key] = translate_dna(seq_dict[key])\n",
    "    return prot_dict\n",
    "\n",
    "def translate_dna(sequence):\n",
    "    \"\"\"\n",
    "    :param sequence: (str) a DNA sequence string\n",
    "    :return: (str) a protein string from the forward reading frame 1\n",
    "    \"\"\"\n",
    "    codontable = {'ATA': 'I', 'ATC': 'I', 'ATT': 'I', 'ATG': 'M',\n",
    "              'ACA': 'T', 'ACC': 'T', 'ACG': 'T', 'ACT': 'T',\n",
    "              'AAC': 'N', 'AAT': 'N', 'AAA': 'K', 'AAG': 'K',\n",
    "              'AGC': 'S', 'AGT': 'S', 'AGA': 'R', 'AGG': 'R',\n",
    "              'CTA': 'L', 'CTC': 'L', 'CTG': 'L', 'CTT': 'L',\n",
    "              'CCA': 'P', 'CCC': 'P', 'CCG': 'P', 'CCT': 'P',\n",
    "              'CAC': 'H', 'CAT': 'H', 'CAA': 'Q', 'CAG': 'Q',\n",
    "              'CGA': 'R', 'CGC': 'R', 'CGG': 'R', 'CGT': 'R',\n",
    "              'GTA': 'V', 'GTC': 'V', 'GTG': 'V', 'GTT': 'V',\n",
    "              'GCA': 'A', 'GCC': 'A', 'GCG': 'A', 'GCT': 'A',\n",
    "              'GAC': 'D', 'GAT': 'D', 'GAA': 'E', 'GAG': 'E',\n",
    "              'GGA': 'G', 'GGC': 'G', 'GGG': 'G', 'GGT': 'G',\n",
    "              'TCA': 'S', 'TCC': 'S', 'TCG': 'S', 'TCT': 'S',\n",
    "              'TTC': 'F', 'TTT': 'F', 'TTA': 'L', 'TTG': 'L',\n",
    "              'TAC': 'Y', 'TAT': 'Y', 'TAA': '*', 'TAG': '*',\n",
    "              'TGC': 'C', 'TGT': 'C', 'TGA': '*', 'TGG': 'W',\n",
    "              '---': '-',\n",
    "              }\n",
    "\n",
    "    seq = sequence.upper()\n",
    "    prot = []\n",
    "    \n",
    "    n = 0\n",
    "    while n+3 < len(seq):\n",
    "        if seq[n:n + 3] in codontable:\n",
    "            residue = codontable[seq[n:n + 3]]\n",
    "        else:\n",
    "            residue = \"X\"\n",
    "        prot.append(residue)\n",
    "        n += 3\n",
    "    return \"\".join(prot)"
   ]
  },
  {
   "cell_type": "code",
   "execution_count": 40,
   "metadata": {
    "scrolled": true
   },
   "outputs": [],
   "source": [
    "haplo_seq_dict, days = read_fasta('data/fasta/hivevo_p1_V3.fasta')\n",
    "seq_dict, seq_name_days_dict = preparing_data(haplo_seq_dict, days)\n",
    "prot_dict = translating_seqs(seq_dict)"
   ]
  },
  {
   "cell_type": "code",
   "execution_count": 41,
   "metadata": {},
   "outputs": [
    {
     "data": {
      "text/plain": [
       "'MSX'"
      ]
     },
     "execution_count": 41,
     "metadata": {},
     "output_type": "execute_result"
    }
   ],
   "source": [
    "a = 'ATGTCT-TGC'\n",
    "translate_dna(a)"
   ]
  },
  {
   "cell_type": "code",
   "execution_count": 63,
   "metadata": {},
   "outputs": [
    {
     "data": {
      "text/plain": [
       "['days_122_frequency_100%']"
      ]
     },
     "execution_count": 63,
     "metadata": {},
     "output_type": "execute_result"
    }
   ],
   "source": [
    "seq_name_days_dict['122']"
   ]
  },
  {
   "cell_type": "code",
   "execution_count": 56,
   "metadata": {},
   "outputs": [],
   "source": [
    "# prepating data\n",
    "\n",
    "def finding_frequency(string):\n",
    "    '''\n",
    "    This function finds frequencies of amino acids. Thus there only amino acid alphabet ('A', 'R', 'N', 'D', 'C', 'Q', 'E', 'G', 'H', 'I', 'L', 'K', 'M', 'F', 'P', 'S', 'T', 'W', 'Y', 'V', 'X' ) is used. \n",
    "    Function return frequency of each amino acid by list: Alanin is first, Argenin - second and so on (see alphabet).\n",
    "    Parametrs:\n",
    "        string - what should be analyzed\n",
    "    '''\n",
    "    Alphabet = ['A', 'R', 'N', 'D', 'C', 'Q', 'E', 'G', 'H', 'I', 'L', 'K', 'M', 'F', 'P', 'S', 'T', 'W', 'Y', 'V']\n",
    "    result = []\n",
    "    for x in Alphabet:\n",
    "            result.append(string.count(x)/len(string))\n",
    "    return result\n",
    "\n",
    "def calculating_clf_metric(prot_dict, seq_name_dict, days):\n",
    "    days_objects = {day:[] for day in days}\n",
    "    for day in days:\n",
    "        if day == '0':\n",
    "            days_objects[day].append(finding_frequency(prot_dict['reference']))\n",
    "        lst_prot_name = seq_name_dict[day]\n",
    "        for prot_name in lst_prot_name:\n",
    "            res = finding_frequency(prot_dict[prot_name])\n",
    "            days_objects[day].append(res)\n",
    "    return days_objects"
   ]
  },
  {
   "cell_type": "code",
   "execution_count": 57,
   "metadata": {},
   "outputs": [],
   "source": [
    "days_objects = calculating_clf_metric(prot_dict, seq_name_days_dict, days)"
   ]
  },
  {
   "cell_type": "code",
   "execution_count": 101,
   "metadata": {},
   "outputs": [
    {
     "data": {
      "text/plain": [
       "[[0.0423728813559322,\n",
       "  0.05084745762711865,\n",
       "  0.0847457627118644,\n",
       "  0.03389830508474576,\n",
       "  0.01694915254237288,\n",
       "  0.025423728813559324,\n",
       "  0.07627118644067797,\n",
       "  0.06779661016949153,\n",
       "  0.03389830508474576,\n",
       "  0.1271186440677966,\n",
       "  0.06779661016949153,\n",
       "  0.06779661016949153,\n",
       "  0.00847457627118644,\n",
       "  0.03389830508474576,\n",
       "  0.03389830508474576,\n",
       "  0.05084745762711865,\n",
       "  0.0847457627118644,\n",
       "  0.00847457627118644,\n",
       "  0.00847457627118644,\n",
       "  0.07627118644067797]]"
      ]
     },
     "execution_count": 101,
     "metadata": {},
     "output_type": "execute_result"
    }
   ],
   "source": [
    "sample = days_objects['0']\n",
    "sample"
   ]
  },
  {
   "cell_type": "code",
   "execution_count": 60,
   "metadata": {},
   "outputs": [],
   "source": [
    "# Our classificator\n",
    "\n",
    "Gradboost = load('saved_sklearn_models/Gradboost.joblib')"
   ]
  },
  {
   "cell_type": "code",
   "execution_count": 92,
   "metadata": {},
   "outputs": [
    {
     "data": {
      "text/plain": [
       "array([[0.50010876, 0.49989124]])"
      ]
     },
     "execution_count": 92,
     "metadata": {},
     "output_type": "execute_result"
    }
   ],
   "source": [
    "Gradboost.predict_proba(sample)"
   ]
  },
  {
   "cell_type": "code",
   "execution_count": 111,
   "metadata": {},
   "outputs": [
    {
     "data": {
      "image/png": "[encoded data removed]",
      "text/plain": [
       "<Figure size 720x576 with 1 Axes>"
      ]
     },
     "metadata": {
      "needs_background": "light"
     },
     "output_type": "display_data"
    }
   ],
   "source": [
    "X = list(map(int, list(days_objects.keys())))\n",
    "Y = []\n",
    "for day in days:\n",
    "    obj_lst = days_objects[day]\n",
    "    res = 0\n",
    "    for pred in Gradboost.predict_proba(obj_lst):\n",
    "        res += pred[1]\n",
    "    Y.append(res/len(obj_lst))\n",
    "\n",
    "fig = plt.figure(figsize=(10,8))\n",
    "plt.xlabel('days')\n",
    "plt.title('Evolution of HIV')\n",
    "plt.ylabel('probability to be human protein')\n",
    "plt.plot(X, Y, label='Gradboost')\n",
    "plt.show()"
   ]
  },
  {
   "cell_type": "code",
   "execution_count": null,
   "metadata": {},
   "outputs": [],
   "source": []
  }
 ],
 "metadata": {
  "kernelspec": {
   "display_name": "Python 3",
   "language": "python",
   "name": "python3"
  },
  "language_info": {
   "codemirror_mode": {
    "name": "ipython",
    "version": 3
   },
   "file_extension": ".py",
   "mimetype": "text/x-python",
   "name": "python",
   "nbconvert_exporter": "python",
   "pygments_lexer": "ipython3",
   "version": "3.7.4"
  }
 },
 "nbformat": 4,
 "nbformat_minor": 2
}
