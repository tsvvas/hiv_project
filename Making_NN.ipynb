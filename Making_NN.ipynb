{
 "cells": [
  {
   "cell_type": "code",
   "execution_count": 1,
   "metadata": {},
   "outputs": [],
   "source": [
    "import numpy as np\n",
    "import pandas as pd\n",
    "import matplotlib.pyplot as plt\n",
    "import os\n",
    "import pandas as pd\n",
    "import re\n",
    "%matplotlib inline\n",
    "\n",
    "import nltk\n",
    "import tqdm\n",
    "from collections import Counter\n",
    "\n",
    "import torch\n",
    "from torch import nn\n",
    "import torch.nn.functional as F\n",
    "\n",
    "from Bio import SeqIO"
   ]
  },
  {
   "cell_type": "code",
   "execution_count": 2,
   "metadata": {
    "scrolled": true
   },
   "outputs": [
    {
     "data": {
      "text/plain": [
       "['data/proteomes_without_trembl/YERS_pestis.fasta',\n",
       " 'data/proteomes_without_trembl/Ecoli.fasta',\n",
       " 'data/proteomes_without_trembl/KLEB_pneumoniae.fasta',\n",
       " 'data/proteomes_without_trembl/MYPL_synoviae.fasta',\n",
       " 'data/proteomes_without_trembl/adenovirus.fasta']"
      ]
     },
     "execution_count": 2,
     "metadata": {},
     "output_type": "execute_result"
    }
   ],
   "source": [
    "files = os.listdir('data/proteomes_without_trembl/')\n",
    "\n",
    "files[:5]\n",
    "\n",
    "tmp = []\n",
    "\n",
    "for file_name in files:\n",
    "    tmp.append('data/proteomes_without_trembl/'+file_name)\n",
    "    \n",
    "files = tmp\n",
    "\n",
    "files[:5]"
   ]
  },
  {
   "cell_type": "code",
   "execution_count": 55,
   "metadata": {
    "scrolled": true
   },
   "outputs": [
    {
     "data": {
      "text/html": [
       "<div>\n",
       "<style scoped>\n",
       "    .dataframe tbody tr th:only-of-type {\n",
       "        vertical-align: middle;\n",
       "    }\n",
       "\n",
       "    .dataframe tbody tr th {\n",
       "        vertical-align: top;\n",
       "    }\n",
       "\n",
       "    .dataframe thead th {\n",
       "        text-align: right;\n",
       "    }\n",
       "</style>\n",
       "<table border=\"1\" class=\"dataframe\">\n",
       "  <thead>\n",
       "    <tr style=\"text-align: right;\">\n",
       "      <th></th>\n",
       "      <th>organism</th>\n",
       "      <th>protein</th>\n",
       "      <th>target</th>\n",
       "    </tr>\n",
       "  </thead>\n",
       "  <tbody>\n",
       "    <tr>\n",
       "      <td>0</td>\n",
       "      <td>YERS_PESTIS</td>\n",
       "      <td>MTLTSAHPKSKLMKRFAALGPYLREGQCQNDHFFFDCLAVCINVKL...</td>\n",
       "      <td>0</td>\n",
       "    </tr>\n",
       "    <tr>\n",
       "      <td>1</td>\n",
       "      <td>YERS_PESTIS</td>\n",
       "      <td>MKGYLWGGASVVLVTVAQLVLKWGMMNIPLLSLADINVQFLTMYFV...</td>\n",
       "      <td>0</td>\n",
       "    </tr>\n",
       "    <tr>\n",
       "      <td>2</td>\n",
       "      <td>YERS_PESTIS</td>\n",
       "      <td>MVTTLDNALLNDILQQVRPLIGQGKVADYIPALAEVPANKLGIAVC...</td>\n",
       "      <td>0</td>\n",
       "    </tr>\n",
       "    <tr>\n",
       "      <td>3</td>\n",
       "      <td>YERS_PESTIS</td>\n",
       "      <td>MQKYIVEARSLLALAIPVVIAQLSQTAMGVVDTIMAGSVSATDMAA...</td>\n",
       "      <td>0</td>\n",
       "    </tr>\n",
       "    <tr>\n",
       "      <td>4</td>\n",
       "      <td>YERS_PESTIS</td>\n",
       "      <td>MTLKELVVGFGTQVRSLWMIGLHAFHKRETLMYPEEPVYLPPRYRG...</td>\n",
       "      <td>0</td>\n",
       "    </tr>\n",
       "  </tbody>\n",
       "</table>\n",
       "</div>"
      ],
      "text/plain": [
       "      organism                                            protein target\n",
       "0  YERS_PESTIS  MTLTSAHPKSKLMKRFAALGPYLREGQCQNDHFFFDCLAVCINVKL...      0\n",
       "1  YERS_PESTIS  MKGYLWGGASVVLVTVAQLVLKWGMMNIPLLSLADINVQFLTMYFV...      0\n",
       "2  YERS_PESTIS  MVTTLDNALLNDILQQVRPLIGQGKVADYIPALAEVPANKLGIAVC...      0\n",
       "3  YERS_PESTIS  MQKYIVEARSLLALAIPVVIAQLSQTAMGVVDTIMAGSVSATDMAA...      0\n",
       "4  YERS_PESTIS  MTLKELVVGFGTQVRSLWMIGLHAFHKRETLMYPEEPVYLPPRYRG...      0"
      ]
     },
     "execution_count": 55,
     "metadata": {},
     "output_type": "execute_result"
    }
   ],
   "source": [
    "# making dataframe\n",
    "\n",
    "data = pd.DataFrame(columns=['organism', 'protein', 'target'])\n",
    "\n",
    "names = []\n",
    "\n",
    "\n",
    "for file_name in files:\n",
    "    \n",
    "    tmp_dict = {'organism':[], 'protein':[], 'target':[]}\n",
    "    \n",
    "    file_records = SeqIO.parse(file_name, 'fasta')\n",
    "    \n",
    "    for record in file_records:\n",
    "        \n",
    "        protein = record.seq\n",
    "        \n",
    "        org_name = file_name[len(file_name) - file_name[::-1].find('/'):].replace('.fasta', '').upper()\n",
    "            \n",
    "        names.append(org_name)\n",
    "        \n",
    "        tmp_dict['protein'].append(protein)\n",
    "        tmp_dict['organism'].append(org_name)\n",
    "        \n",
    "        if org_name != 'HUMAN_PROTEOME':\n",
    "            tmp_dict['target'].append(0)\n",
    "        else:\n",
    "            tmp_dict['target'].append(1)\n",
    "        \n",
    "    tmp_df = pd.DataFrame(tmp_dict)\n",
    "    \n",
    "    #print(tmp_df)\n",
    "    \n",
    "    data = pd.concat((data, tmp_df), ignore_index=True, axis=0)\n",
    "\n",
    "\n",
    "data.protein = data.protein.apply(str)    \n",
    "\n",
    "data.head()"
   ]
  },
  {
   "cell_type": "code",
   "execution_count": 7,
   "metadata": {},
   "outputs": [],
   "source": [
    "one2all ={'A': ('A', 'ALA', 'alanine'),\n",
    "              'R': ('R', 'ARG', 'arginine'),\n",
    "              'N': ('N', 'ASN', 'asparagine'),\n",
    "              'D': ('D', 'ASP', 'aspartic acid'),\n",
    "              'C': ('C', 'CYS', 'cysteine'),\n",
    "              'Q': ('Q', 'GLN', 'glutamine'),\n",
    "              'E': ('E', 'GLU', 'glutamic acid'),\n",
    "              'G': ('G', 'GLY', 'glycine'),\n",
    "              'H': ('H', 'HIS', 'histidine'),\n",
    "              'I': ('I', 'ILE', 'isoleucine'),\n",
    "              'L': ('L', 'LEU', 'leucine'),\n",
    "              'K': ('K', 'LYS', 'lysine'),\n",
    "              'M': ('M', 'MET', 'methionine'),\n",
    "              'F': ('F', 'PHE', 'phenylalanine'),\n",
    "              'P': ('P', 'PRO', 'proline'),\n",
    "              'S': ('S', 'SER', 'serine'),\n",
    "              'T': ('T', 'THR', 'threonine'),\n",
    "              'W': ('W', 'TRP', 'tryptophan'),\n",
    "              'Y': ('Y', 'TYR', 'tyrosine'),\n",
    "              'V': ('V', 'VAL', 'valine'),\n",
    "              'X': ('X', 'GLX', 'glutaminx'),\n",
    "              'Z': ('Z', 'GLI', 'glycine'),\n",
    "              'J': ('J', 'NLE', 'norleucine'),\n",
    "          'U': ('U', 'CYC', 'cysteinc')}"
   ]
  },
  {
   "cell_type": "code",
   "execution_count": 10,
   "metadata": {},
   "outputs": [],
   "source": [
    "alphabet = list(one2all.keys())"
   ]
  },
  {
   "cell_type": "code",
   "execution_count": 175,
   "metadata": {},
   "outputs": [],
   "source": [
    "def protein_slicing(protein):\n",
    "    pieces = []\n",
    "    \n",
    "    i = 10\n",
    "    j = 0\n",
    "    \n",
    "    while i < len(protein):\n",
    "        pieces.append(protein[j:i])\n",
    "        i += 2\n",
    "        j += 2\n",
    "        \n",
    "    return pieces\n",
    "\n",
    "def tokenization(piece, alphabet):\n",
    "    \n",
    "        \n",
    "    i = 0\n",
    "\n",
    "    vector = [0 for i in range(24)]\n",
    "\n",
    "    for aa in alphabet:\n",
    "        vector[i] = piece.count(aa)\n",
    "\n",
    "        i += 1\n",
    "        \n",
    "    return vector\n",
    "\n",
    "def token_proteins(proteins, target):\n",
    "    \n",
    "    matrix = []\n",
    "    target_out = []\n",
    "    \n",
    "    n = 0\n",
    "    \n",
    "    for ind, protein in enumerate(proteins):\n",
    "        \n",
    "        #print(protein)\n",
    "    \n",
    "        pieces = protein_slicing(protein)\n",
    "        \n",
    "        n += len(pieces)\n",
    "        \n",
    "        for piece in pieces:\n",
    "            \n",
    "            matrix.append(tokenization(piece, alphabet))\n",
    "            target_out.append(target[ind])\n",
    "            \n",
    "    return np.array(matrix).reshape(n,24), np.array(target_out)"
   ]
  },
  {
   "cell_type": "code",
   "execution_count": 163,
   "metadata": {
    "scrolled": true
   },
   "outputs": [
    {
     "data": {
      "text/plain": [
       "[(0,\n",
       "  'MTLTSAHPKSKLMKRFAALGPYLREGQCQNDHFFFDCLAVCINVKLAPEKREFWGWWIELEPSAGRFTYVYQLGLFNKEGNWNAEKISDPEVQDKLESTLRSFHLRLEEMLASIDMKLEPAADFNDQPVKLSA'),\n",
       " (1,\n",
       "  'MKGYLWGGASVVLVTVAQLVLKWGMMNIPLLSLADINVQFLTMYFVQLASVMCGLMGYALSMLCWFFALRYLPLNRAYPLLSLSYALVYLGAVLLPWFNEPATLLKTLGAGFILLGIWLINIKPIKAS')]"
      ]
     },
     "execution_count": 163,
     "metadata": {},
     "output_type": "execute_result"
    }
   ],
   "source": [
    "proteins = list(data.protein[0:2])\n",
    "target = list(data.target[0:2])\n",
    "\n",
    "list(enumerate(proteins))"
   ]
  },
  {
   "cell_type": "code",
   "execution_count": 157,
   "metadata": {},
   "outputs": [],
   "source": [
    "all_indices = [i for i in data.index]\n",
    "\n",
    "human_indices = list(data.loc[data.organism == 'HUMAN_PROTEOME'].index)"
   ]
  },
  {
   "cell_type": "code",
   "execution_count": 176,
   "metadata": {},
   "outputs": [],
   "source": [
    "def iterate_minibatches(data, batch_size=100, shuffle=True, cycle=False, **kwargs):\n",
    "    \"\"\" iterates minibatches of data in random order \"\"\"\n",
    "    while True:\n",
    "        indices = np.arange(len(data))\n",
    "        if shuffle:\n",
    "            indices = np.random.permutation(indices)\n",
    "\n",
    "        for start in range(0, len(indices), batch_size):\n",
    "            proteins = list(data.protein.iloc[indices[start : start + batch_size]])\n",
    "            target = list(data.target.iloc[indices[start : start + batch_size]])\n",
    "            #print(proteins, target)\n",
    "            batch, target_out = token_proteins(proteins, target)\n",
    "            yield batch, target_out\n",
    "        \n",
    "        if not cycle: break"
   ]
  },
  {
   "cell_type": "code",
   "execution_count": 177,
   "metadata": {},
   "outputs": [],
   "source": [
    "iterator = iterate_minibatches(data)\n",
    "\n",
    "batch, target_out = next(iterator)"
   ]
  },
  {
   "cell_type": "code",
   "execution_count": 186,
   "metadata": {},
   "outputs": [
    {
     "data": {
      "text/plain": [
       "torch.Size([18839, 24])"
      ]
     },
     "execution_count": 186,
     "metadata": {},
     "output_type": "execute_result"
    }
   ],
   "source": [
    "batch.shape"
   ]
  },
  {
   "cell_type": "code",
   "execution_count": 130,
   "metadata": {},
   "outputs": [
    {
     "name": "stdout",
     "output_type": "stream",
     "text": [
      "Train size =  91750\n",
      "Validation size =  10195\n"
     ]
    }
   ],
   "source": [
    "from sklearn.model_selection import train_test_split\n",
    "\n",
    "data_train, data_val = train_test_split(data, test_size=0.1, random_state=42)\n",
    "data_train.index = range(len(data_train))\n",
    "data_val.index = range(len(data_val))\n",
    "\n",
    "print(\"Train size = \", len(data_train))\n",
    "print(\"Validation size = \", len(data_val))"
   ]
  },
  {
   "cell_type": "code",
   "execution_count": 180,
   "metadata": {},
   "outputs": [],
   "source": [
    "n_tokens=24\n",
    "simple_model = nn.Sequential()\n",
    "\n",
    "simple_model.add_module('linear_1', nn.Linear(in_features=n_tokens, out_features=200))\n",
    "simple_model.add_module('linear_2', nn.Linear(in_features=200, out_features=1))"
   ]
  },
  {
   "cell_type": "code",
   "execution_count": 184,
   "metadata": {},
   "outputs": [
    {
     "name": "stderr",
     "output_type": "stream",
     "text": [
      "/home/belsawan/anaconda3/lib/python3.7/site-packages/ipykernel_launcher.py:1: UserWarning: To copy construct from a tensor, it is recommended to use sourceTensor.clone().detach() or sourceTensor.clone().detach().requires_grad_(True), rather than torch.tensor(sourceTensor).\n",
      "  \"\"\"Entry point for launching an IPython kernel.\n"
     ]
    },
    {
     "data": {
      "text/plain": [
       "torch.Size([18839, 1])"
      ]
     },
     "execution_count": 184,
     "metadata": {},
     "output_type": "execute_result"
    }
   ],
   "source": [
    "simple_model(torch.tensor(batch, dtype=torch.float)).size()"
   ]
  },
  {
   "cell_type": "code",
   "execution_count": 189,
   "metadata": {},
   "outputs": [
    {
     "data": {
      "image/png": "[encoded data removed]",
      "text/plain": [
       "<Figure size 432x288 with 1 Axes>"
      ]
     },
     "metadata": {
      "needs_background": "light"
     },
     "output_type": "display_data"
    },
    {
     "ename": "KeyboardInterrupt",
     "evalue": "",
     "output_type": "error",
     "traceback": [
      "\u001b[0;31m---------------------------------------------------------------------------\u001b[0m",
      "\u001b[0;31mKeyboardInterrupt\u001b[0m                         Traceback (most recent call last)",
      "\u001b[0;32m<ipython-input-189-1bce47b0c306>\u001b[0m in \u001b[0;36m<module>\u001b[0;34m\u001b[0m\n\u001b[1;32m     10\u001b[0m \u001b[0mhistory\u001b[0m \u001b[0;34m=\u001b[0m \u001b[0;34m[\u001b[0m\u001b[0;34m]\u001b[0m\u001b[0;34m\u001b[0m\u001b[0;34m\u001b[0m\u001b[0m\n\u001b[1;32m     11\u001b[0m \u001b[0;32mfor\u001b[0m \u001b[0mepoch_num\u001b[0m \u001b[0;32min\u001b[0m \u001b[0mrange\u001b[0m\u001b[0;34m(\u001b[0m\u001b[0mepochs\u001b[0m\u001b[0;34m)\u001b[0m\u001b[0;34m:\u001b[0m\u001b[0;34m\u001b[0m\u001b[0;34m\u001b[0m\u001b[0m\n\u001b[0;32m---> 12\u001b[0;31m     \u001b[0;32mfor\u001b[0m \u001b[0midx\u001b[0m\u001b[0;34m,\u001b[0m \u001b[0;34m(\u001b[0m\u001b[0mbatch\u001b[0m\u001b[0;34m,\u001b[0m \u001b[0mtarget_out\u001b[0m\u001b[0;34m)\u001b[0m \u001b[0;32min\u001b[0m \u001b[0menumerate\u001b[0m\u001b[0;34m(\u001b[0m\u001b[0miterate_minibatches\u001b[0m\u001b[0;34m(\u001b[0m\u001b[0mdata_train\u001b[0m\u001b[0;34m)\u001b[0m\u001b[0;34m)\u001b[0m\u001b[0;34m:\u001b[0m\u001b[0;34m\u001b[0m\u001b[0;34m\u001b[0m\u001b[0m\n\u001b[0m\u001b[1;32m     13\u001b[0m         \u001b[0;31m# Preprocessing the batch data and target\u001b[0m\u001b[0;34m\u001b[0m\u001b[0;34m\u001b[0m\u001b[0;34m\u001b[0m\u001b[0m\n\u001b[1;32m     14\u001b[0m         \u001b[0mtarget_out\u001b[0m \u001b[0;34m=\u001b[0m \u001b[0mtorch\u001b[0m\u001b[0;34m.\u001b[0m\u001b[0mtensor\u001b[0m\u001b[0;34m(\u001b[0m\u001b[0mtarget_out\u001b[0m\u001b[0;34m,\u001b[0m \u001b[0mdtype\u001b[0m\u001b[0;34m=\u001b[0m\u001b[0mtorch\u001b[0m\u001b[0;34m.\u001b[0m\u001b[0mfloat\u001b[0m\u001b[0;34m)\u001b[0m\u001b[0;34m\u001b[0m\u001b[0;34m\u001b[0m\u001b[0m\n",
      "\u001b[0;32m<ipython-input-176-9f8e96626100>\u001b[0m in \u001b[0;36miterate_minibatches\u001b[0;34m(data, batch_size, shuffle, cycle, **kwargs)\u001b[0m\n\u001b[1;32m     10\u001b[0m             \u001b[0mtarget\u001b[0m \u001b[0;34m=\u001b[0m \u001b[0mlist\u001b[0m\u001b[0;34m(\u001b[0m\u001b[0mdata\u001b[0m\u001b[0;34m.\u001b[0m\u001b[0mtarget\u001b[0m\u001b[0;34m.\u001b[0m\u001b[0miloc\u001b[0m\u001b[0;34m[\u001b[0m\u001b[0mindices\u001b[0m\u001b[0;34m[\u001b[0m\u001b[0mstart\u001b[0m \u001b[0;34m:\u001b[0m \u001b[0mstart\u001b[0m \u001b[0;34m+\u001b[0m \u001b[0mbatch_size\u001b[0m\u001b[0;34m]\u001b[0m\u001b[0;34m]\u001b[0m\u001b[0;34m)\u001b[0m\u001b[0;34m\u001b[0m\u001b[0;34m\u001b[0m\u001b[0m\n\u001b[1;32m     11\u001b[0m             \u001b[0;31m#print(proteins, target)\u001b[0m\u001b[0;34m\u001b[0m\u001b[0;34m\u001b[0m\u001b[0;34m\u001b[0m\u001b[0m\n\u001b[0;32m---> 12\u001b[0;31m             \u001b[0mbatch\u001b[0m\u001b[0;34m,\u001b[0m \u001b[0mtarget_out\u001b[0m \u001b[0;34m=\u001b[0m \u001b[0mtoken_proteins\u001b[0m\u001b[0;34m(\u001b[0m\u001b[0mproteins\u001b[0m\u001b[0;34m,\u001b[0m \u001b[0mtarget\u001b[0m\u001b[0;34m)\u001b[0m\u001b[0;34m\u001b[0m\u001b[0;34m\u001b[0m\u001b[0m\n\u001b[0m\u001b[1;32m     13\u001b[0m             \u001b[0;32myield\u001b[0m \u001b[0mbatch\u001b[0m\u001b[0;34m,\u001b[0m \u001b[0mtarget_out\u001b[0m\u001b[0;34m\u001b[0m\u001b[0;34m\u001b[0m\u001b[0m\n\u001b[1;32m     14\u001b[0m \u001b[0;34m\u001b[0m\u001b[0m\n",
      "\u001b[0;32m<ipython-input-175-f27fb89d7f68>\u001b[0m in \u001b[0;36mtoken_proteins\u001b[0;34m(proteins, target)\u001b[0m\n\u001b[1;32m     43\u001b[0m         \u001b[0;32mfor\u001b[0m \u001b[0mpiece\u001b[0m \u001b[0;32min\u001b[0m \u001b[0mpieces\u001b[0m\u001b[0;34m:\u001b[0m\u001b[0;34m\u001b[0m\u001b[0;34m\u001b[0m\u001b[0m\n\u001b[1;32m     44\u001b[0m \u001b[0;34m\u001b[0m\u001b[0m\n\u001b[0;32m---> 45\u001b[0;31m             \u001b[0mmatrix\u001b[0m\u001b[0;34m.\u001b[0m\u001b[0mappend\u001b[0m\u001b[0;34m(\u001b[0m\u001b[0mtokenization\u001b[0m\u001b[0;34m(\u001b[0m\u001b[0mpiece\u001b[0m\u001b[0;34m,\u001b[0m \u001b[0malphabet\u001b[0m\u001b[0;34m)\u001b[0m\u001b[0;34m)\u001b[0m\u001b[0;34m\u001b[0m\u001b[0;34m\u001b[0m\u001b[0m\n\u001b[0m\u001b[1;32m     46\u001b[0m             \u001b[0mtarget_out\u001b[0m\u001b[0;34m.\u001b[0m\u001b[0mappend\u001b[0m\u001b[0;34m(\u001b[0m\u001b[0mtarget\u001b[0m\u001b[0;34m[\u001b[0m\u001b[0mind\u001b[0m\u001b[0;34m]\u001b[0m\u001b[0;34m)\u001b[0m\u001b[0;34m\u001b[0m\u001b[0;34m\u001b[0m\u001b[0m\n\u001b[1;32m     47\u001b[0m \u001b[0;34m\u001b[0m\u001b[0m\n",
      "\u001b[0;32m<ipython-input-175-f27fb89d7f68>\u001b[0m in \u001b[0;36mtokenization\u001b[0;34m(piece, alphabet)\u001b[0m\n\u001b[1;32m     20\u001b[0m \u001b[0;34m\u001b[0m\u001b[0m\n\u001b[1;32m     21\u001b[0m     \u001b[0;32mfor\u001b[0m \u001b[0maa\u001b[0m \u001b[0;32min\u001b[0m \u001b[0malphabet\u001b[0m\u001b[0;34m:\u001b[0m\u001b[0;34m\u001b[0m\u001b[0;34m\u001b[0m\u001b[0m\n\u001b[0;32m---> 22\u001b[0;31m         \u001b[0mvector\u001b[0m\u001b[0;34m[\u001b[0m\u001b[0mi\u001b[0m\u001b[0;34m]\u001b[0m \u001b[0;34m=\u001b[0m \u001b[0mpiece\u001b[0m\u001b[0;34m.\u001b[0m\u001b[0mcount\u001b[0m\u001b[0;34m(\u001b[0m\u001b[0maa\u001b[0m\u001b[0;34m)\u001b[0m\u001b[0;34m\u001b[0m\u001b[0;34m\u001b[0m\u001b[0m\n\u001b[0m\u001b[1;32m     23\u001b[0m \u001b[0;34m\u001b[0m\u001b[0m\n\u001b[1;32m     24\u001b[0m         \u001b[0mi\u001b[0m \u001b[0;34m+=\u001b[0m \u001b[0;36m1\u001b[0m\u001b[0;34m\u001b[0m\u001b[0;34m\u001b[0m\u001b[0m\n",
      "\u001b[0;31mKeyboardInterrupt\u001b[0m: "
     ]
    }
   ],
   "source": [
    "from IPython.display import clear_output\n",
    "from random import sample\n",
    "\n",
    "epochs = 1\n",
    "\n",
    "model = simple_model\n",
    "opt = torch.optim.Adam(model.parameters())\n",
    "loss_func = nn.MSELoss()\n",
    "\n",
    "history = []\n",
    "for epoch_num in range(epochs):\n",
    "    for idx, (batch, target_out) in enumerate(iterate_minibatches(data_train)):\n",
    "        # Preprocessing the batch data and target\n",
    "        target_out = torch.tensor(target)\n",
    "        \n",
    "        \n",
    "        batch = torch.tensor(batch, dtype=torch.float)\n",
    "        \n",
    "        predictions = model(batch)\n",
    "        predictions = predictions.view(predictions.size(0))\n",
    "\n",
    "        loss = loss_func(predictions, target_out)\n",
    "\n",
    "        # train with backprop\n",
    "        loss.backward()\n",
    "        opt.step()\n",
    "        opt.zero_grad()\n",
    "\n",
    "        history.append(loss.data.numpy())\n",
    "        if (idx+1)%10==0:\n",
    "            clear_output(True)\n",
    "            plt.plot(history,label='loss')\n",
    "            plt.legend()\n",
    "            plt.show()"
   ]
  },
  {
   "cell_type": "code",
   "execution_count": null,
   "metadata": {},
   "outputs": [],
   "source": []
  },
  {
   "cell_type": "code",
   "execution_count": null,
   "metadata": {},
   "outputs": [],
   "source": []
  }
 ],
 "metadata": {
  "kernelspec": {
   "display_name": "Python 3",
   "language": "python",
   "name": "python3"
  },
  "language_info": {
   "codemirror_mode": {
    "name": "ipython",
    "version": 3
   },
   "file_extension": ".py",
   "mimetype": "text/x-python",
   "name": "python",
   "nbconvert_exporter": "python",
   "pygments_lexer": "ipython3",
   "version": "3.7.4"
  }
 },
 "nbformat": 4,
 "nbformat_minor": 2
}
