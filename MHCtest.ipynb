{
 "cells": [
  {
   "cell_type": "code",
   "execution_count": 1,
   "metadata": {},
   "outputs": [],
   "source": [
    "import mhcflurry\n",
    "from mhcflurry import Class1PresentationPredictor\n",
    "\n",
    "%matplotlib inline\n",
    "\n",
    "import re\n",
    "import os\n",
    "import sys\n",
    "from Bio import SeqIO\n",
    "from Bio.SeqRecord import SeqRecord\n",
    "from Bio.Seq import Seq\n",
    "from Bio import Align\n",
    "import matplotlib.pyplot as plt\n",
    "import pandas as pd\n",
    "from joblib import load\n",
    "from igraph import Graph as igraph_graph, plot, rescale\n",
    "\n",
    "# adding project folder to lib search path\n",
    "project = \"/\".join((os.path.split(os.getcwd())[0], os.path.split(os.getcwd())[1], 'scripts'))\n",
    "if project not in sys.path:\n",
    "    sys.path.append(project)\n",
    "    \n",
    "import loader\n",
    "import work_with_files\n",
    "import classificator_k_mer\n",
    "import tree_building\n",
    "import patients_data\n",
    "import data_prep_k_mer\n",
    "import quantitative_analyze\n",
    "import calculating_metrics"
   ]
  },
  {
   "cell_type": "markdown",
   "metadata": {},
   "source": [
    "### Looking at p1"
   ]
  },
  {
   "cell_type": "code",
   "execution_count": 2,
   "metadata": {},
   "outputs": [],
   "source": [
    "# loading pat\n",
    "\n",
    "pat = patients_data.Patient('p1')\n",
    "\n",
    "pat_reg_data = pat.regions.region.loc[pat.regions.region.name == 'V3']"
   ]
  },
  {
   "cell_type": "code",
   "execution_count": 3,
   "metadata": {},
   "outputs": [],
   "source": [
    "# getting only peptides\n",
    "\n",
    "pat_peptides = list(pat_reg_data.translated.apply(str))"
   ]
  },
  {
   "cell_type": "code",
   "execution_count": 4,
   "metadata": {
    "scrolled": true
   },
   "outputs": [
    {
     "name": "stdout",
     "output_type": "stream",
     "text": [
      "NIHNSAP*R\n",
      "HNSAP*RTC\n",
      "SAP*RTCRN\n",
      "P*RTCRNQL\n",
      "RTRTSIL*N\n",
      "RTSIL*NRR\n",
      "SIL*NRRHN\n",
      "L*NRRHNRR\n",
      "KKSILCN*W\n",
      "SILCN*WNK\n",
      "LCN*WNKME\n",
      "N*WNKMERN\n",
      "ERNFKTGS*\n",
      "NFKTGS*KI\n",
      "KTGS*KIKK\n",
      "GS*KIKKVL\n",
      "*KIKKVL**\n",
      "IKKVL**DN\n",
      "KVL**DNSL\n",
      "L**DNSL*T\n",
      "*DNSL*TTL\n",
      "NSL*TTLRR\n",
      "L*TTLRRRS\n",
      "EKLKKVL**\n",
      "LKKVL**DN\n",
      "KVL**DNSL\n",
      "L**DNSL*T\n",
      "*DNSL*TTL\n",
      "NSL*TTLRR\n",
      "L*TTLRRRS\n"
     ]
    }
   ],
   "source": [
    "# cutting peptides into pieces\n",
    "\n",
    "pat_pept_pieces = []\n",
    "\n",
    "for pepti in pat_peptides:\n",
    "    i = 9\n",
    "    j = 0\n",
    "    \n",
    "    length = len(pepti)\n",
    "    \n",
    "    while i < length:\n",
    "        \n",
    "        # will drop pieces with stop codon\n",
    "        if '*' in pepti[j: i]:\n",
    "            print(pepti[j: i])\n",
    "            i += 2\n",
    "            j += 2\n",
    "            continue\n",
    "        \n",
    "        pat_pept_pieces.append(pepti[j: i])\n",
    "        i += 2\n",
    "        j += 2"
   ]
  },
  {
   "cell_type": "code",
   "execution_count": 5,
   "metadata": {},
   "outputs": [],
   "source": [
    "# settings alleles\n",
    "\n",
    "pat_hla = ['HLA-A*02:02', 'HLA-B*08:15']"
   ]
  },
  {
   "cell_type": "code",
   "execution_count": 6,
   "metadata": {},
   "outputs": [
    {
     "name": "stderr",
     "output_type": "stream",
     "text": [
      "Using TensorFlow backend.\n"
     ]
    }
   ],
   "source": [
    "# making predictior and making him doing his stuff\n",
    "\n",
    "predictor = Class1PresentationPredictor.load()\n",
    "\n",
    "pept_pred = predictor.predict(peptides=pat_pept_pieces,\n",
    "                  alleles=pat_hla,\n",
    "                  verbose=0)"
   ]
  },
  {
   "cell_type": "code",
   "execution_count": 9,
   "metadata": {
    "scrolled": true
   },
   "outputs": [
    {
     "data": {
      "text/plain": [
       "(5632, 7)"
      ]
     },
     "execution_count": 9,
     "metadata": {},
     "output_type": "execute_result"
    }
   ],
   "source": [
    "pept_pred.shape"
   ]
  },
  {
   "cell_type": "code",
   "execution_count": 8,
   "metadata": {},
   "outputs": [
    {
     "data": {
      "text/plain": [
       "(441, 7)"
      ]
     },
     "execution_count": 8,
     "metadata": {},
     "output_type": "execute_result"
    }
   ],
   "source": [
    "# watching affinity\n",
    "\n",
    "pept_pred.loc[pept_pred.affinity < 500].shape"
   ]
  },
  {
   "cell_type": "code",
   "execution_count": null,
   "metadata": {},
   "outputs": [],
   "source": []
  }
 ],
 "metadata": {
  "kernelspec": {
   "display_name": "Python 3",
   "language": "python",
   "name": "python3"
  },
  "language_info": {
   "codemirror_mode": {
    "name": "ipython",
    "version": 3
   },
   "file_extension": ".py",
   "mimetype": "text/x-python",
   "name": "python",
   "nbconvert_exporter": "python",
   "pygments_lexer": "ipython3",
   "version": "3.7.4"
  }
 },
 "nbformat": 4,
 "nbformat_minor": 2
}
