{
 "cells": [
  {
   "cell_type": "code",
   "execution_count": 8,
   "metadata": {},
   "outputs": [],
   "source": [
    "import mhcflurry\n",
    "from mhcflurry import Class1PresentationPredictor\n",
    "\n",
    "%matplotlib inline\n",
    "\n",
    "import re\n",
    "import os\n",
    "import sys\n",
    "from Bio import SeqIO\n",
    "from Bio.SeqRecord import SeqRecord\n",
    "from Bio.Seq import Seq\n",
    "from Bio import Align\n",
    "import matplotlib.pyplot as plt\n",
    "import pandas as pd\n",
    "from joblib import load\n",
    "from igraph import Graph as igraph_graph, plot, rescale\n",
    "from IPython.display import clear_output\n",
    "\n",
    "# adding project folder to lib search path\n",
    "project = \"/\".join((os.path.split(os.getcwd())[0], os.path.split(os.getcwd())[1], 'scripts'))\n",
    "if project not in sys.path:\n",
    "    sys.path.append(project)\n",
    "    \n",
    "import loader\n",
    "import work_with_files\n",
    "import classificator_k_mer\n",
    "import tree_building\n",
    "import patient\n",
    "import data_prep_k_mer\n",
    "import quantitative_analysis\n",
    "import calculating_metrics"
   ]
  },
  {
   "cell_type": "markdown",
   "metadata": {},
   "source": [
    "### Functions"
   ]
  },
  {
   "cell_type": "code",
   "execution_count": 12,
   "metadata": {
    "scrolled": true
   },
   "outputs": [],
   "source": [
    "# cutting peptides into pieces\n",
    "\n",
    "def cutting_pept(peptides, step):\n",
    "\n",
    "    pat_pept_pieces = []\n",
    "\n",
    "    for pepti in peptides:\n",
    "        i = 9\n",
    "        j = 0\n",
    "\n",
    "        length = len(pepti)\n",
    "\n",
    "        while i < length:\n",
    "\n",
    "            # will drop pieces with stop codon\n",
    "            if '*' in pepti[j: i]:\n",
    "                #print(pepti[j: i])\n",
    "                i += step\n",
    "                j += step\n",
    "                continue\n",
    "\n",
    "            if pepti[j:i] not in pat_pept_pieces:\n",
    "                pat_pept_pieces.append(pepti[j: i])\n",
    "            i += step\n",
    "            j += step\n",
    "    \n",
    "    return pat_pept_pieces"
   ]
  },
  {
   "cell_type": "code",
   "execution_count": 29,
   "metadata": {},
   "outputs": [],
   "source": [
    "def mhc_time(pat_data, pat_hla, affinity, step):\n",
    "    days_unique = list(set(sorted(pat_data.days)))\n",
    "    \n",
    "    days_mhc = {}\n",
    "    \n",
    "    for day in days_unique:\n",
    "        #print(day)\n",
    "        peptides = pat_data.loc[pat_data.days == day].translated\n",
    "        \n",
    "        #print(peptides)\n",
    "        \n",
    "        pat_pept_pieces = cutting_pept(peptides, step)\n",
    "        \n",
    "        predictor = Class1PresentationPredictor.load()\n",
    "\n",
    "        pept_pred = predictor.predict(peptides=pat_pept_pieces,\n",
    "                  alleles=pat_hla,\n",
    "                  verbose=0)\n",
    "        \n",
    "        #clear_output(wait=True)\n",
    "        #print(pept_pred.loc[pept_pred.affinity < affinity])\n",
    "        \n",
    "        days_mhc[day] = pept_pred.loc[pept_pred.affinity < affinity].shape[0]\n",
    "        \n",
    "    return days_mhc"
   ]
  },
  {
   "cell_type": "code",
   "execution_count": 30,
   "metadata": {
    "scrolled": false
   },
   "outputs": [],
   "source": [
    "# loading pat\n",
    "\n",
    "def patient_mhc(pat_name, region, affinity, step=2):\n",
    "    \n",
    "    pat_hla_dict = {'p1':[\"HLA-A*02:02\", \"HLA-B*08:15\"],\n",
    "        'p2':[\"HLA-A*01:24\", \"HLA-B*08:39\"],\n",
    "        'p3':[\"HLA-A*02:11\", \"HLA-B*15:44\"],\n",
    "        'p5':[\"HLA-A*03:33\", \"HLA-B*14:58\"],\n",
    "        'p6':[\"HLA-A*02:02\", \"HLA-B*44:51\"],\n",
    "        'p8':[\"HLA-A*03:32\", \"HLA-B*07:40\"],\n",
    "        'p9':[\"HLA-A*25:32\", \"HLA-B*07:44\"],\n",
    "        'p10':[\"HLA-A*32:32\", \"HLA-B*44:50\"],\n",
    "        'p11':[\"HLA-A*02:32\", \"HLA-B*39:44\"]\n",
    "       }\n",
    "    \n",
    "    # creating df\n",
    "    \n",
    "    pat = patient.Patient(pat_name)\n",
    "\n",
    "    pat_reg_data = pat.regions.region.loc[pat.regions.region.name == region]\n",
    "\n",
    "    pat_data = pd.DataFrame(pat_reg_data['days'])\n",
    "\n",
    "    pat_data.insert(1, 'translated', pat_reg_data.translated.apply(str))\n",
    "\n",
    "    del pat_reg_data\n",
    "    \n",
    "    # pat_hla\n",
    "    \n",
    "    pat_hla = pat_hla_dict[pat_name]\n",
    "    \n",
    "    return mhc_time(pat_data, pat_hla, affinity, step)"
   ]
  },
  {
   "cell_type": "markdown",
   "metadata": {},
   "source": [
    "### Patient analysis "
   ]
  },
  {
   "cell_type": "code",
   "execution_count": 31,
   "metadata": {},
   "outputs": [],
   "source": [
    "# using func\n",
    "\n",
    "def plot_epitopes(pat_name, region, affinity, step=2):\n",
    "    \n",
    "    days_mhc = patient_mhc(pat_name, region, affinity, step)\n",
    "\n",
    "    days_mhc\n",
    "\n",
    "    days = sorted(days_mhc.keys())\n",
    "\n",
    "    epitopes = [days_mhc[day] for day in days]\n",
    "\n",
    "    plt.figure(figsize=(8,8))\n",
    "\n",
    "    plt.plot(days, epitopes)\n",
    "    #plt.ylim([0, 15])\n",
    "    plt.xlabel('days')\n",
    "    plt.ylabel('num of epitopes')\n",
    "    plt.title(f'Epitopes for days (affinity_threshhold = {affinity})')\n",
    "\n",
    "    plt.show()"
   ]
  },
  {
   "cell_type": "code",
   "execution_count": 33,
   "metadata": {
    "scrolled": false
   },
   "outputs": [
    {
     "name": "stderr",
     "output_type": "stream",
     "text": [
      "/home/belsawan/anaconda3/lib/python3.7/site-packages/Bio/Seq.py:2715: BiopythonWarning: Partial codon, len(sequence) not a multiple of three. Explicitly trim the sequence or add trailing N before translation. This may become an error in future.\n",
      "  BiopythonWarning)\n",
      "/home/belsawan/Documents/hiv_project/scripts/patient.py:68: FutureWarning: Sorting because non-concatenation axis is not aligned. A future version\n",
      "of pandas will change to not sort by default.\n",
      "\n",
      "To accept the future behavior, pass 'sort=False'.\n",
      "\n",
      "To retain the current behavior and silence the warning, pass 'sort=True'.\n",
      "\n",
      "  self.regions = Region(pd.concat([regions, self.reference.reference_df.drop(['id'], axis=1)], ignore_index=True).sort_values(by=['days']))\n"
     ]
    },
    {
     "data": {
      "image/png": "[encoded data removed]",
      "text/plain": [
       "<Figure size 576x576 with 1 Axes>"
      ]
     },
     "metadata": {
      "needs_background": "light"
     },
     "output_type": "display_data"
    }
   ],
   "source": [
    "plot_epitopes('p1', 'V3', 2000)"
   ]
  },
  {
   "cell_type": "code",
   "execution_count": null,
   "metadata": {},
   "outputs": [],
   "source": []
  }
 ],
 "metadata": {
  "kernelspec": {
   "display_name": "Python 3",
   "language": "python",
   "name": "python3"
  },
  "language_info": {
   "codemirror_mode": {
    "name": "ipython",
    "version": 3
   },
   "file_extension": ".py",
   "mimetype": "text/x-python",
   "name": "python",
   "nbconvert_exporter": "python",
   "pygments_lexer": "ipython3",
   "version": "3.7.4"
  }
 },
 "nbformat": 4,
 "nbformat_minor": 2
}
